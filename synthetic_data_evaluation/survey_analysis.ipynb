{
  "nbformat": 4,
  "nbformat_minor": 0,
  "metadata": {
    "colab": {
      "name": "survey_analysis.ipynb",
      "provenance": [],
      "include_colab_link": true
    },
    "kernelspec": {
      "name": "python3",
      "display_name": "Python 3"
    },
    "language_info": {
      "name": "python"
    }
  },
  "cells": [
    {
      "cell_type": "markdown",
      "metadata": {
        "id": "view-in-github",
        "colab_type": "text"
      },
      "source": [
        "<a href=\"https://colab.research.google.com/github/rosenanna/Master_Thesis/blob/main/synthetic_data_evaluation/survey_analysis.ipynb\" target=\"_parent\"><img src=\"https://colab.research.google.com/assets/colab-badge.svg\" alt=\"Open In Colab\"/></a>"
      ]
    },
    {
      "cell_type": "code",
      "source": [
        "from google.colab import drive\n",
        "drive.mount('/content/drive')"
      ],
      "metadata": {
        "colab": {
          "base_uri": "https://localhost:8080/"
        },
        "id": "2Tf96ZBg1g0y",
        "outputId": "851f531f-328f-4122-a0b9-01aedd0e517c"
      },
      "execution_count": 1,
      "outputs": [
        {
          "output_type": "stream",
          "name": "stdout",
          "text": [
            "Mounted at /content/drive\n"
          ]
        }
      ]
    },
    {
      "cell_type": "code",
      "execution_count": 3,
      "metadata": {
        "id": "LF0651V5u0Pg"
      },
      "outputs": [],
      "source": [
        "import pandas as pd\n",
        "import numpy as np\n",
        "from sklearn.metrics import confusion_matrix, accuracy_score, roc_curve\n",
        "from matplotlib import pyplot as plt\n",
        "import seaborn as sns"
      ]
    },
    {
      "cell_type": "code",
      "source": [
        "# Import gt and label files\n",
        "df_gt = pd.read_excel('/content/drive/MyDrive/ExJobb/survey_files/derm_survey.xlsx').sort_values(by='order')\n",
        "df_labels= pd.read_csv('/content/drive/MyDrive/ExJobb/survey_files/responses_4_shummar.csv')"
      ],
      "metadata": {
        "id": "XSxyfvHZvndt"
      },
      "execution_count": null,
      "outputs": []
    },
    {
      "cell_type": "code",
      "source": [
        "# Import gt and label files\n",
        "# For Anna\n",
        "df_gt = pd.read_excel('/content/drive/MyDrive/thesis/ELLA_Eivor1.0_DERM_dataset.zip (Unzipped Files)/survey_files/derm_survey.xlsx').sort_values(by='order')\n",
        "df_labels= pd.read_csv('/content/drive/MyDrive/thesis/ELLA_Eivor1.0_DERM_dataset.zip (Unzipped Files)/survey_files/responses_4_shummar.csv')"
      ],
      "metadata": {
        "id": "vHStuCU4lGKa"
      },
      "execution_count": 4,
      "outputs": []
    },
    {
      "cell_type": "code",
      "source": [
        "df_labels"
      ],
      "metadata": {
        "colab": {
          "base_uri": "https://localhost:8080/",
          "height": 785
        },
        "id": "TAddAzAM1R8-",
        "outputId": "9ef6068f-fa46-4138-b03e-a34e40ae453d"
      },
      "execution_count": 5,
      "outputs": [
        {
          "output_type": "execute_result",
          "data": {
            "text/plain": [
              "                     Timestamp                        Username  \\\n",
              "0  2022/04/22 6:37:24 PM GMT+2         anna_frosen@hotmail.com   \n",
              "1  2022/04/27 9:27:56 AM GMT+2           sam.polesie@gmail.com   \n",
              "2  2022/05/02 9:29:14 AM GMT+2      lisa.l.sjoblom@vgregion.se   \n",
              "3  2022/05/09 3:46:24 PM GMT+2      juulia.suvilehto@gmail.com   \n",
              "4  2022/05/11 9:44:50 AM GMT+2  noora.neittaanmaki@vgregion.se   \n",
              "\n",
              "                      Unnamed: 2 Diagnosis of lesion Is this image synthetic?  \\\n",
              "0                            NaN   invasive melanoma                      Yes   \n",
              "1                  Dermatologist        not melanoma                      Yes   \n",
              "2  Lay person (i.e. non-medical)        not melanoma                      Yes   \n",
              "3           Deep learning expert        not melanoma                       No   \n",
              "4                  Dermatologist        not melanoma                       No   \n",
              "\n",
              "   Level of certainty: Diagnosis of lesion.1 Is this image synthetic?.1  \\\n",
              "0                  NaN     invasive melanoma                        Yes   \n",
              "1                  4.0          not melanoma                         No   \n",
              "2                  3.0    malignant melanoma                         No   \n",
              "3                  3.0    malignant melanoma                         No   \n",
              "4                  4.0    malignant melanoma                        Yes   \n",
              "\n",
              "   Level of certainty:.1 Diagnosis of lesion.2  ... Level of certainty:.197  \\\n",
              "0                    NaN       benign melanoma  ...                     NaN   \n",
              "1                    4.0          not melanoma  ...                     3.0   \n",
              "2                    3.0          not melanoma  ...                     2.0   \n",
              "3                    3.0          not melanoma  ...                     2.0   \n",
              "4                    3.0          not melanoma  ...                     4.0   \n",
              "\n",
              "   Diagnosis of lesion.198 Is this image synthetic?.198  \\\n",
              "0          benign melanoma                          Yes   \n",
              "1             not melanoma                          Yes   \n",
              "2             not melanoma                           No   \n",
              "3             not melanoma                           No   \n",
              "4             not melanoma                          Yes   \n",
              "\n",
              "  Level of certainty:.198  Diagnosis of lesion.199  \\\n",
              "0                     NaN          benign melanoma   \n",
              "1                     2.0             not melanoma   \n",
              "2                     2.0             not melanoma   \n",
              "3                     3.0             not melanoma   \n",
              "4                     4.0             not melanoma   \n",
              "\n",
              "  Is this image synthetic?.199 Level of certainty:.199  \\\n",
              "0                          Yes                     NaN   \n",
              "1                          Yes                     3.0   \n",
              "2                          Yes                     2.0   \n",
              "3                          Yes                     3.0   \n",
              "4                           No                     4.0   \n",
              "\n",
              "      Overall how convincing were the \"fake\" images?  \\\n",
              "0                                                NaN   \n",
              "1  I would say they were very convincing. Hair st...   \n",
              "2  Hard to say when you don't have the correct an...   \n",
              "3  very convincing! well done! I was mainly focus...   \n",
              "4          Some pretty convincing, some clearly fake   \n",
              "\n",
              "  Any comments for us in regards to the images or the process of the survey?  \\\n",
              "0                                                NaN                           \n",
              "1  When you say malignant melanoma you automatica...                           \n",
              "2                                                 No                           \n",
              "3                                                NaN                           \n",
              "4         The images should be bigger (whole screen)                           \n",
              "\n",
              "  If you would like to receive the results from the survey and the report that it will contribute to, please leave your email:  \n",
              "0                                                NaN                                                                            \n",
              "1                              sam.polesie@gmail.com                                                                            \n",
              "2                                                NaN                                                                            \n",
              "3                                                NaN                                                                            \n",
              "4                     noora.neittaanmaki@vgregion.se                                                                            \n",
              "\n",
              "[5 rows x 606 columns]"
            ],
            "text/html": [
              "\n",
              "  <div id=\"df-59b3f368-c160-4952-81b9-af373300d2a5\">\n",
              "    <div class=\"colab-df-container\">\n",
              "      <div>\n",
              "<style scoped>\n",
              "    .dataframe tbody tr th:only-of-type {\n",
              "        vertical-align: middle;\n",
              "    }\n",
              "\n",
              "    .dataframe tbody tr th {\n",
              "        vertical-align: top;\n",
              "    }\n",
              "\n",
              "    .dataframe thead th {\n",
              "        text-align: right;\n",
              "    }\n",
              "</style>\n",
              "<table border=\"1\" class=\"dataframe\">\n",
              "  <thead>\n",
              "    <tr style=\"text-align: right;\">\n",
              "      <th></th>\n",
              "      <th>Timestamp</th>\n",
              "      <th>Username</th>\n",
              "      <th>Unnamed: 2</th>\n",
              "      <th>Diagnosis of lesion</th>\n",
              "      <th>Is this image synthetic?</th>\n",
              "      <th>Level of certainty:</th>\n",
              "      <th>Diagnosis of lesion.1</th>\n",
              "      <th>Is this image synthetic?.1</th>\n",
              "      <th>Level of certainty:.1</th>\n",
              "      <th>Diagnosis of lesion.2</th>\n",
              "      <th>...</th>\n",
              "      <th>Level of certainty:.197</th>\n",
              "      <th>Diagnosis of lesion.198</th>\n",
              "      <th>Is this image synthetic?.198</th>\n",
              "      <th>Level of certainty:.198</th>\n",
              "      <th>Diagnosis of lesion.199</th>\n",
              "      <th>Is this image synthetic?.199</th>\n",
              "      <th>Level of certainty:.199</th>\n",
              "      <th>Overall how convincing were the \"fake\" images?</th>\n",
              "      <th>Any comments for us in regards to the images or the process of the survey?</th>\n",
              "      <th>If you would like to receive the results from the survey and the report that it will contribute to, please leave your email:</th>\n",
              "    </tr>\n",
              "  </thead>\n",
              "  <tbody>\n",
              "    <tr>\n",
              "      <th>0</th>\n",
              "      <td>2022/04/22 6:37:24 PM GMT+2</td>\n",
              "      <td>anna_frosen@hotmail.com</td>\n",
              "      <td>NaN</td>\n",
              "      <td>invasive melanoma</td>\n",
              "      <td>Yes</td>\n",
              "      <td>NaN</td>\n",
              "      <td>invasive melanoma</td>\n",
              "      <td>Yes</td>\n",
              "      <td>NaN</td>\n",
              "      <td>benign melanoma</td>\n",
              "      <td>...</td>\n",
              "      <td>NaN</td>\n",
              "      <td>benign melanoma</td>\n",
              "      <td>Yes</td>\n",
              "      <td>NaN</td>\n",
              "      <td>benign melanoma</td>\n",
              "      <td>Yes</td>\n",
              "      <td>NaN</td>\n",
              "      <td>NaN</td>\n",
              "      <td>NaN</td>\n",
              "      <td>NaN</td>\n",
              "    </tr>\n",
              "    <tr>\n",
              "      <th>1</th>\n",
              "      <td>2022/04/27 9:27:56 AM GMT+2</td>\n",
              "      <td>sam.polesie@gmail.com</td>\n",
              "      <td>Dermatologist</td>\n",
              "      <td>not melanoma</td>\n",
              "      <td>Yes</td>\n",
              "      <td>4.0</td>\n",
              "      <td>not melanoma</td>\n",
              "      <td>No</td>\n",
              "      <td>4.0</td>\n",
              "      <td>not melanoma</td>\n",
              "      <td>...</td>\n",
              "      <td>3.0</td>\n",
              "      <td>not melanoma</td>\n",
              "      <td>Yes</td>\n",
              "      <td>2.0</td>\n",
              "      <td>not melanoma</td>\n",
              "      <td>Yes</td>\n",
              "      <td>3.0</td>\n",
              "      <td>I would say they were very convincing. Hair st...</td>\n",
              "      <td>When you say malignant melanoma you automatica...</td>\n",
              "      <td>sam.polesie@gmail.com</td>\n",
              "    </tr>\n",
              "    <tr>\n",
              "      <th>2</th>\n",
              "      <td>2022/05/02 9:29:14 AM GMT+2</td>\n",
              "      <td>lisa.l.sjoblom@vgregion.se</td>\n",
              "      <td>Lay person (i.e. non-medical)</td>\n",
              "      <td>not melanoma</td>\n",
              "      <td>Yes</td>\n",
              "      <td>3.0</td>\n",
              "      <td>malignant melanoma</td>\n",
              "      <td>No</td>\n",
              "      <td>3.0</td>\n",
              "      <td>not melanoma</td>\n",
              "      <td>...</td>\n",
              "      <td>2.0</td>\n",
              "      <td>not melanoma</td>\n",
              "      <td>No</td>\n",
              "      <td>2.0</td>\n",
              "      <td>not melanoma</td>\n",
              "      <td>Yes</td>\n",
              "      <td>2.0</td>\n",
              "      <td>Hard to say when you don't have the correct an...</td>\n",
              "      <td>No</td>\n",
              "      <td>NaN</td>\n",
              "    </tr>\n",
              "    <tr>\n",
              "      <th>3</th>\n",
              "      <td>2022/05/09 3:46:24 PM GMT+2</td>\n",
              "      <td>juulia.suvilehto@gmail.com</td>\n",
              "      <td>Deep learning expert</td>\n",
              "      <td>not melanoma</td>\n",
              "      <td>No</td>\n",
              "      <td>3.0</td>\n",
              "      <td>malignant melanoma</td>\n",
              "      <td>No</td>\n",
              "      <td>3.0</td>\n",
              "      <td>not melanoma</td>\n",
              "      <td>...</td>\n",
              "      <td>2.0</td>\n",
              "      <td>not melanoma</td>\n",
              "      <td>No</td>\n",
              "      <td>3.0</td>\n",
              "      <td>not melanoma</td>\n",
              "      <td>Yes</td>\n",
              "      <td>3.0</td>\n",
              "      <td>very convincing! well done! I was mainly focus...</td>\n",
              "      <td>NaN</td>\n",
              "      <td>NaN</td>\n",
              "    </tr>\n",
              "    <tr>\n",
              "      <th>4</th>\n",
              "      <td>2022/05/11 9:44:50 AM GMT+2</td>\n",
              "      <td>noora.neittaanmaki@vgregion.se</td>\n",
              "      <td>Dermatologist</td>\n",
              "      <td>not melanoma</td>\n",
              "      <td>No</td>\n",
              "      <td>4.0</td>\n",
              "      <td>malignant melanoma</td>\n",
              "      <td>Yes</td>\n",
              "      <td>3.0</td>\n",
              "      <td>not melanoma</td>\n",
              "      <td>...</td>\n",
              "      <td>4.0</td>\n",
              "      <td>not melanoma</td>\n",
              "      <td>Yes</td>\n",
              "      <td>4.0</td>\n",
              "      <td>not melanoma</td>\n",
              "      <td>No</td>\n",
              "      <td>4.0</td>\n",
              "      <td>Some pretty convincing, some clearly fake</td>\n",
              "      <td>The images should be bigger (whole screen)</td>\n",
              "      <td>noora.neittaanmaki@vgregion.se</td>\n",
              "    </tr>\n",
              "  </tbody>\n",
              "</table>\n",
              "<p>5 rows × 606 columns</p>\n",
              "</div>\n",
              "      <button class=\"colab-df-convert\" onclick=\"convertToInteractive('df-59b3f368-c160-4952-81b9-af373300d2a5')\"\n",
              "              title=\"Convert this dataframe to an interactive table.\"\n",
              "              style=\"display:none;\">\n",
              "        \n",
              "  <svg xmlns=\"http://www.w3.org/2000/svg\" height=\"24px\"viewBox=\"0 0 24 24\"\n",
              "       width=\"24px\">\n",
              "    <path d=\"M0 0h24v24H0V0z\" fill=\"none\"/>\n",
              "    <path d=\"M18.56 5.44l.94 2.06.94-2.06 2.06-.94-2.06-.94-.94-2.06-.94 2.06-2.06.94zm-11 1L8.5 8.5l.94-2.06 2.06-.94-2.06-.94L8.5 2.5l-.94 2.06-2.06.94zm10 10l.94 2.06.94-2.06 2.06-.94-2.06-.94-.94-2.06-.94 2.06-2.06.94z\"/><path d=\"M17.41 7.96l-1.37-1.37c-.4-.4-.92-.59-1.43-.59-.52 0-1.04.2-1.43.59L10.3 9.45l-7.72 7.72c-.78.78-.78 2.05 0 2.83L4 21.41c.39.39.9.59 1.41.59.51 0 1.02-.2 1.41-.59l7.78-7.78 2.81-2.81c.8-.78.8-2.07 0-2.86zM5.41 20L4 18.59l7.72-7.72 1.47 1.35L5.41 20z\"/>\n",
              "  </svg>\n",
              "      </button>\n",
              "      \n",
              "  <style>\n",
              "    .colab-df-container {\n",
              "      display:flex;\n",
              "      flex-wrap:wrap;\n",
              "      gap: 12px;\n",
              "    }\n",
              "\n",
              "    .colab-df-convert {\n",
              "      background-color: #E8F0FE;\n",
              "      border: none;\n",
              "      border-radius: 50%;\n",
              "      cursor: pointer;\n",
              "      display: none;\n",
              "      fill: #1967D2;\n",
              "      height: 32px;\n",
              "      padding: 0 0 0 0;\n",
              "      width: 32px;\n",
              "    }\n",
              "\n",
              "    .colab-df-convert:hover {\n",
              "      background-color: #E2EBFA;\n",
              "      box-shadow: 0px 1px 2px rgba(60, 64, 67, 0.3), 0px 1px 3px 1px rgba(60, 64, 67, 0.15);\n",
              "      fill: #174EA6;\n",
              "    }\n",
              "\n",
              "    [theme=dark] .colab-df-convert {\n",
              "      background-color: #3B4455;\n",
              "      fill: #D2E3FC;\n",
              "    }\n",
              "\n",
              "    [theme=dark] .colab-df-convert:hover {\n",
              "      background-color: #434B5C;\n",
              "      box-shadow: 0px 1px 3px 1px rgba(0, 0, 0, 0.15);\n",
              "      filter: drop-shadow(0px 1px 2px rgba(0, 0, 0, 0.3));\n",
              "      fill: #FFFFFF;\n",
              "    }\n",
              "  </style>\n",
              "\n",
              "      <script>\n",
              "        const buttonEl =\n",
              "          document.querySelector('#df-59b3f368-c160-4952-81b9-af373300d2a5 button.colab-df-convert');\n",
              "        buttonEl.style.display =\n",
              "          google.colab.kernel.accessAllowed ? 'block' : 'none';\n",
              "\n",
              "        async function convertToInteractive(key) {\n",
              "          const element = document.querySelector('#df-59b3f368-c160-4952-81b9-af373300d2a5');\n",
              "          const dataTable =\n",
              "            await google.colab.kernel.invokeFunction('convertToInteractive',\n",
              "                                                     [key], {});\n",
              "          if (!dataTable) return;\n",
              "\n",
              "          const docLinkHtml = 'Like what you see? Visit the ' +\n",
              "            '<a target=\"_blank\" href=https://colab.research.google.com/notebooks/data_table.ipynb>data table notebook</a>'\n",
              "            + ' to learn more about interactive tables.';\n",
              "          element.innerHTML = '';\n",
              "          dataTable['output_type'] = 'display_data';\n",
              "          await google.colab.output.renderOutput(dataTable, element);\n",
              "          const docLink = document.createElement('div');\n",
              "          docLink.innerHTML = docLinkHtml;\n",
              "          element.appendChild(docLink);\n",
              "        }\n",
              "      </script>\n",
              "    </div>\n",
              "  </div>\n",
              "  "
            ]
          },
          "metadata": {},
          "execution_count": 5
        }
      ]
    },
    {
      "cell_type": "code",
      "source": [
        "df_labels.iloc[0+1], df_labels.iloc[1+1], df_labels.iloc[2+1], df_labels.iloc[3+1] = df_labels.iloc[0+1], df_labels.iloc[3+1], df_labels.iloc[1+1], df_labels.iloc[2+1]"
      ],
      "metadata": {
        "id": "6j4GZwBO027J"
      },
      "execution_count": 6,
      "outputs": []
    },
    {
      "cell_type": "code",
      "source": [
        "# Initialize empty arrays\n",
        "certainty_matrix = np.zeros((4, 200))\n",
        "weighted_certainty_matrix = np.zeros((4, 200))\n",
        "diagnosis_matrix = np.zeros((4, 200))\n",
        "synth_matrix = np.zeros((4, 200))\n",
        "diagn_matrix = np.zeros((4, 200))\n",
        "# [sam, lisa, juulia, noora]"
      ],
      "metadata": {
        "id": "KahJDJcZvtSk"
      },
      "execution_count": 7,
      "outputs": []
    },
    {
      "cell_type": "code",
      "source": [
        "# Convert labels from {0,1} to {-1,1}\n",
        "synth_label_gt = 2*np.asarray(df_gt.synthetic) - 1\n",
        "diagnosis_label_gt = 2*np.asarray(df_gt.label) - 1"
      ],
      "metadata": {
        "id": "1meL1MBkvxPT"
      },
      "execution_count": 8,
      "outputs": []
    },
    {
      "cell_type": "code",
      "source": [
        "tn_synth = np.zeros((4)) \n",
        "fp_synth = np.zeros((4))\n",
        "fn_synth = np.zeros((4))\n",
        "tp_synth = np.zeros((4))\n",
        "acc_synth = np.zeros((4))\n",
        "\n",
        "tn_diagn = np.zeros((4)) \n",
        "fp_diagn = np.zeros((4))\n",
        "fn_diagn = np.zeros((4))\n",
        "tp_diagn = np.zeros((4))\n",
        "acc_diagn = np.zeros((4))"
      ],
      "metadata": {
        "id": "VaJFSYVXH61m"
      },
      "execution_count": 9,
      "outputs": []
    },
    {
      "cell_type": "code",
      "source": [
        "# place results in a matrix \n",
        "for i in range(1,5):\n",
        "    answers_synth = df_labels.iloc[i][[q for q in list(df_labels) if q[:23]=='Is this image synthetic']]\n",
        "    answers_diagnosis = df_labels.iloc[i][[q for q in list(df_labels) if q[:19]=='Diagnosis of lesion']]\n",
        "    answers_certainty = df_labels.iloc[i][[q for q in list(df_labels) if q[:18]=='Level of certainty']]\n",
        "\n",
        "    label_synth = np.asarray([1 if i == 'Yes' else -1 for i in answers_synth])\n",
        "    label_diagnosis = np.asarray([1 if i == 'malignant melanoma' else -1 for i in answers_diagnosis])\n",
        "\n",
        "    certainty_matrix[i-1, :] = answers_certainty\n",
        "    diagnosis_matrix[i-1, :] = label_diagnosis\n",
        "    synth_matrix[i-1, :] = label_synth\n",
        "    diagn_matrix[i-1, :] = label_diagnosis\n",
        "    tn_synth[i-1], fp_synth[i-1], fn_synth[i-1], tp_synth[i-1] = confusion_matrix(y_true=synth_label_gt, y_pred=label_synth).ravel()\n",
        "    acc_synth[i-1] = accuracy_score(y_true=synth_label_gt, y_pred=label_synth)\n",
        "    tn_diagn[i-1], fp_diagn[i-1], fn_diagn[i-1], tp_diagn[i-1] = confusion_matrix(y_true=diagnosis_label_gt, y_pred=label_diagnosis).ravel()\n",
        "    acc_diagn[i-1] = accuracy_score(y_true=diagnosis_label_gt, y_pred=label_diagnosis)\n",
        "\n",
        "weighted_certainty_matrix = 20*certainty_matrix/100 # Weighted after certainty level"
      ],
      "metadata": {
        "id": "JN3nqVQfwESZ"
      },
      "execution_count": 10,
      "outputs": []
    },
    {
      "cell_type": "code",
      "source": [
        "acc_diagn"
      ],
      "metadata": {
        "colab": {
          "base_uri": "https://localhost:8080/"
        },
        "id": "rXK8ZxKsMPWa",
        "outputId": "5fbfc11d-b8d2-4a77-a787-29359bc2f5da"
      },
      "execution_count": 11,
      "outputs": [
        {
          "output_type": "execute_result",
          "data": {
            "text/plain": [
              "array([0.71 , 0.755, 0.785, 0.775])"
            ]
          },
          "metadata": {},
          "execution_count": 11
        }
      ]
    },
    {
      "cell_type": "code",
      "source": [
        "# Print one value\n",
        "idx = 2\n",
        "\n",
        "answers_synth = df_labels.iloc[idx][[q for q in list(df_labels) if q[:23]=='Is this image synthetic']]\n",
        "answers_diagnosis = df_labels.iloc[idx][[q for q in list(df_labels) if q[:19]=='Diagnosis of lesion']]\n",
        "label_synth = np.asarray([1 if i == 'Yes' else -1 for i in answers_synth])\n",
        "label_diagnosis = np.asarray([1 if i == 'malignant melanoma' else -1 for i in answers_diagnosis])\n",
        "\n",
        "# tn_synth, fp_synth, fn_synth, tp_synth = confusion_matrix(y_true=synth_label_gt, y_pred=label_synth).ravel()\n",
        "# print(\"Confusion matrix for synthetic images: \\n\", confusion_matrix(y_true=synth_label_gt, y_pred=label_synth))\n",
        "print(\"tn_synth, fp_synth, fn_synth, tp_synth: \", tn_synth, fp_synth, fn_synth, tp_synth)\n",
        "print(\"Synthetic images classification accuracy: : \", accuracy_score(y_true=synth_label_gt, y_pred=label_synth))\n",
        "print(\"TPR_synth= \", tp_synth/(tp_synth+fn_synth))\n",
        "print(\"TNR_synth= \", tn_synth/(tn_synth+fp_synth))\n",
        "\n",
        "# tn_diagn, fp_diagn, fn_diagn, tp_diagn = confusion_matrix(y_true=diagnosis_label_gt, y_pred=label_diagnosis).ravel()\n",
        "# print(\"Confusion matrix for MEL diagnosis: \\n\", confusion_matrix(y_true=diagnosis_label_gt, y_pred=label_diagnosis))\n",
        "print(\"tn_diagn, fp_diagn, fn_diagn, tp_diagn:\", tn_diagn, fp_diagn, fn_diagn, tp_diagn)\n",
        "print(\"MEL classification accuracy: \", accuracy_score(y_true=diagnosis_label_gt, y_pred=label_diagnosis))\n",
        "print(\"TPR_diagn= \", tp_diagn/(tp_diagn+fn_diagn))\n",
        "print(\"TNR_diagn= \", tn_diagn/(tn_diagn+fp_diagn))"
      ],
      "metadata": {
        "colab": {
          "base_uri": "https://localhost:8080/"
        },
        "id": "1x0F4kzhwHMx",
        "outputId": "4c395c0f-1c9f-4d68-b8d5-ff9e732ac646"
      },
      "execution_count": 12,
      "outputs": [
        {
          "output_type": "stream",
          "name": "stdout",
          "text": [
            "tn_synth, fp_synth, fn_synth, tp_synth:  [62. 64. 50. 47.] [33. 31. 45. 48.] [35. 69. 67. 41.] [70. 36. 38. 64.]\n",
            "Synthetic images classification accuracy: :  0.5\n",
            "TPR_synth=  [0.66666667 0.34285714 0.36190476 0.60952381]\n",
            "TNR_synth=  [0.65263158 0.67368421 0.52631579 0.49473684]\n",
            "tn_diagn, fp_diagn, fn_diagn, tp_diagn: [89. 64. 77. 78.] [ 1. 26. 13. 12.] [57. 23. 30. 33.] [53. 87. 80. 77.]\n",
            "MEL classification accuracy:  0.755\n",
            "TPR_diagn=  [0.48181818 0.79090909 0.72727273 0.7       ]\n",
            "TNR_diagn=  [0.98888889 0.71111111 0.85555556 0.86666667]\n"
          ]
        }
      ]
    },
    {
      "cell_type": "code",
      "source": [
        "TPR_synth = tp_synth/(tp_synth + fn_synth)\n",
        "FPR_synth = 1 - tn_synth/(tn_synth + fp_synth)\n"
      ],
      "metadata": {
        "id": "ocwHCHqsHxcv"
      },
      "execution_count": 13,
      "outputs": []
    },
    {
      "cell_type": "code",
      "source": [
        "TPR_diagn= tp_diagn/(tp_diagn+fn_diagn)\n",
        "TNR_diagn= tn_diagn/(tn_diagn+fp_diagn)"
      ],
      "metadata": {
        "id": "7YziGSX0Gyca"
      },
      "execution_count": 14,
      "outputs": []
    },
    {
      "cell_type": "code",
      "source": [
        "synth_matrix"
      ],
      "metadata": {
        "id": "_IHd-ss8Nj8d",
        "outputId": "71bcfe86-9968-492f-b415-4b440cd6af86",
        "colab": {
          "base_uri": "https://localhost:8080/"
        }
      },
      "execution_count": 22,
      "outputs": [
        {
          "output_type": "execute_result",
          "data": {
            "text/plain": [
              "array([[ 1., -1., -1., -1., -1., -1.,  1., -1., -1., -1., -1., -1., -1.,\n",
              "        -1.,  1., -1., -1., -1., -1., -1.,  1.,  1.,  1., -1.,  1., -1.,\n",
              "         1.,  1.,  1.,  1., -1., -1.,  1., -1.,  1., -1., -1., -1., -1.,\n",
              "        -1.,  1., -1., -1.,  1., -1., -1.,  1., -1., -1.,  1.,  1.,  1.,\n",
              "         1., -1., -1.,  1., -1.,  1.,  1., -1., -1.,  1., -1., -1., -1.,\n",
              "        -1., -1., -1.,  1.,  1.,  1.,  1., -1., -1.,  1.,  1., -1.,  1.,\n",
              "        -1.,  1.,  1.,  1.,  1., -1.,  1.,  1.,  1.,  1.,  1., -1., -1.,\n",
              "        -1., -1.,  1.,  1.,  1.,  1.,  1., -1., -1., -1., -1.,  1., -1.,\n",
              "         1.,  1., -1.,  1., -1., -1.,  1., -1., -1.,  1., -1.,  1., -1.,\n",
              "        -1., -1.,  1.,  1., -1.,  1.,  1., -1.,  1.,  1.,  1., -1.,  1.,\n",
              "         1., -1.,  1., -1.,  1.,  1., -1.,  1., -1.,  1., -1., -1., -1.,\n",
              "         1., -1.,  1.,  1.,  1., -1., -1., -1.,  1., -1.,  1.,  1.,  1.,\n",
              "        -1.,  1.,  1.,  1.,  1., -1.,  1.,  1., -1.,  1., -1.,  1.,  1.,\n",
              "        -1., -1., -1.,  1.,  1., -1.,  1., -1.,  1.,  1.,  1., -1.,  1.,\n",
              "         1., -1.,  1.,  1.,  1., -1.,  1., -1.,  1.,  1., -1.,  1.,  1.,\n",
              "        -1.,  1.,  1.,  1.,  1.],\n",
              "       [-1.,  1., -1.,  1., -1.,  1., -1.,  1.,  1.,  1., -1.,  1., -1.,\n",
              "        -1.,  1.,  1., -1., -1., -1., -1.,  1., -1., -1., -1., -1., -1.,\n",
              "        -1., -1.,  1., -1., -1., -1.,  1., -1., -1.,  1., -1., -1.,  1.,\n",
              "        -1., -1., -1.,  1.,  1., -1., -1.,  1., -1., -1., -1., -1., -1.,\n",
              "        -1., -1., -1., -1., -1., -1., -1., -1., -1., -1.,  1., -1.,  1.,\n",
              "        -1., -1., -1., -1., -1., -1., -1., -1., -1., -1.,  1.,  1., -1.,\n",
              "        -1., -1.,  1., -1., -1.,  1.,  1., -1., -1., -1., -1.,  1.,  1.,\n",
              "         1., -1.,  1.,  1.,  1.,  1., -1.,  1.,  1.,  1., -1.,  1., -1.,\n",
              "         1., -1.,  1.,  1., -1., -1., -1., -1., -1.,  1.,  1.,  1., -1.,\n",
              "        -1., -1., -1., -1., -1., -1.,  1., -1., -1., -1., -1.,  1.,  1.,\n",
              "        -1., -1., -1., -1.,  1., -1.,  1., -1.,  1.,  1., -1., -1., -1.,\n",
              "        -1.,  1., -1., -1.,  1.,  1., -1.,  1., -1., -1., -1.,  1., -1.,\n",
              "         1., -1., -1., -1., -1., -1., -1., -1.,  1., -1., -1., -1., -1.,\n",
              "        -1., -1., -1.,  1., -1.,  1.,  1., -1., -1., -1., -1., -1.,  1.,\n",
              "        -1., -1.,  1., -1., -1., -1., -1., -1.,  1.,  1.,  1.,  1., -1.,\n",
              "        -1.,  1.,  1.,  1., -1.],\n",
              "       [ 1., -1., -1., -1.,  1., -1., -1.,  1., -1., -1.,  1.,  1.,  1.,\n",
              "         1., -1.,  1., -1., -1., -1.,  1., -1., -1., -1.,  1.,  1.,  1.,\n",
              "        -1.,  1.,  1., -1., -1.,  1., -1., -1.,  1., -1., -1., -1.,  1.,\n",
              "        -1., -1., -1., -1.,  1., -1.,  1., -1., -1., -1.,  1.,  1., -1.,\n",
              "         1.,  1.,  1.,  1., -1.,  1., -1., -1., -1., -1., -1.,  1., -1.,\n",
              "        -1., -1.,  1.,  1.,  1., -1., -1., -1., -1.,  1., -1., -1., -1.,\n",
              "        -1.,  1., -1.,  1.,  1.,  1.,  1.,  1., -1.,  1.,  1.,  1., -1.,\n",
              "        -1., -1., -1., -1., -1.,  1., -1.,  1., -1.,  1.,  1.,  1.,  1.,\n",
              "         1., -1., -1., -1., -1., -1., -1.,  1.,  1., -1.,  1.,  1.,  1.,\n",
              "         1., -1.,  1., -1., -1.,  1., -1., -1., -1.,  1., -1.,  1., -1.,\n",
              "         1.,  1.,  1., -1., -1.,  1.,  1., -1., -1.,  1., -1., -1.,  1.,\n",
              "         1., -1.,  1., -1., -1., -1.,  1., -1.,  1.,  1., -1.,  1., -1.,\n",
              "         1., -1., -1.,  1., -1., -1., -1., -1., -1.,  1., -1.,  1.,  1.,\n",
              "        -1., -1., -1., -1.,  1., -1.,  1., -1., -1.,  1., -1.,  1., -1.,\n",
              "        -1., -1., -1., -1., -1., -1., -1.,  1.,  1., -1., -1., -1., -1.,\n",
              "         1., -1., -1., -1.,  1.],\n",
              "       [-1., -1., -1.,  1.,  1., -1.,  1., -1., -1., -1.,  1., -1.,  1.,\n",
              "         1.,  1., -1., -1., -1., -1.,  1., -1., -1., -1., -1.,  1., -1.,\n",
              "        -1.,  1.,  1., -1., -1.,  1., -1.,  1.,  1.,  1., -1.,  1., -1.,\n",
              "        -1.,  1.,  1., -1., -1., -1., -1.,  1.,  1., -1., -1.,  1.,  1.,\n",
              "         1.,  1.,  1.,  1., -1.,  1.,  1.,  1., -1.,  1., -1.,  1., -1.,\n",
              "         1., -1.,  1.,  1.,  1., -1.,  1.,  1.,  1., -1., -1.,  1.,  1.,\n",
              "        -1.,  1.,  1.,  1., -1., -1., -1.,  1.,  1., -1., -1., -1., -1.,\n",
              "        -1., -1.,  1.,  1., -1., -1.,  1.,  1.,  1., -1., -1.,  1., -1.,\n",
              "         1., -1., -1.,  1., -1., -1.,  1.,  1.,  1.,  1.,  1.,  1.,  1.,\n",
              "         1.,  1.,  1., -1.,  1.,  1., -1., -1.,  1.,  1., -1., -1., -1.,\n",
              "         1., -1.,  1.,  1.,  1.,  1.,  1.,  1.,  1.,  1.,  1., -1., -1.,\n",
              "        -1.,  1., -1., -1., -1.,  1., -1.,  1.,  1., -1.,  1.,  1., -1.,\n",
              "         1.,  1.,  1.,  1., -1.,  1.,  1., -1., -1.,  1., -1., -1.,  1.,\n",
              "         1., -1.,  1., -1.,  1., -1.,  1.,  1.,  1.,  1.,  1.,  1.,  1.,\n",
              "         1., -1.,  1.,  1., -1.,  1., -1.,  1.,  1., -1., -1.,  1., -1.,\n",
              "         1.,  1.,  1., -1.,  1.]])"
            ]
          },
          "metadata": {},
          "execution_count": 22
        }
      ]
    },
    {
      "cell_type": "code",
      "source": [
        "# TPR_synth[0], TPR_synth[1], TPR_synth[2], TPR_synth[3] = TPR_synth[0], TPR_synth[3], TPR_synth[1], TPR_synth[2]\n",
        "# FPR_synth[0], FPR_synth[1], FPR_synth[2], FPR_synth[3] = FPR_synth[0], FPR_synth[3], FPR_synth[1], FPR_synth[2]\n",
        "# acc_synth[0], acc_synth[1], acc_synth[2], acc_synth[3] = acc_synth[0], acc_synth[3], acc_synth[1], acc_synth[2]\n",
        "# certainty_matrix[0], certainty_matrix[1], certainty_matrix[2], certainty_matrix[3] = certainty_matrix[0], certainty_matrix[3], certainty_matrix[1], certainty_matrix[2]\n",
        "# weighted_certainty_matrix[0], weighted_certainty_matrix[1], weighted_certainty_matrix[2], weighted_certainty_matrix[3] = weighted_certainty_matrix[0], weighted_certainty_matrix[3], weighted_certainty_matrix[1], weighted_certainty_matrix[2]\n",
        "# synth_matrix[0], synth_matrix[1], synth_matrix[2], synth_matrix[3] = synth_matrix[0], synth_matrix[3], synth_matrix[1], synth_matrix[2]"
      ],
      "metadata": {
        "id": "LOZOu3Mh8Tmo"
      },
      "execution_count": null,
      "outputs": []
    },
    {
      "cell_type": "code",
      "source": [
        "colors = [\"#ddc7af\",\"#d3a293\", \"#ba707e\", \"#995374\", \"#4f3159\", \"#231f37\"]\n",
        "sns.color_palette(\"ch:s=-.2,r=.6\", as_cmap=True)"
      ],
      "metadata": {
        "colab": {
          "base_uri": "https://localhost:8080/"
        },
        "id": "1F9VcardL2i7",
        "outputId": "10f16ba2-fae4-4a87-cb41-fc7636feef22"
      },
      "execution_count": 16,
      "outputs": [
        {
          "output_type": "execute_result",
          "data": {
            "text/plain": [
              "<matplotlib.colors.ListedColormap at 0x7f1004c5ced0>"
            ]
          },
          "metadata": {},
          "execution_count": 16
        }
      ]
    },
    {
      "cell_type": "code",
      "source": [
        "data = np.asarray([TPR_synth ,FPR_synth, acc_synth]).T\n",
        "X = np.arange(3)\n",
        "sns.set_style(style='white') \n",
        "\n",
        "fig = plt.figure()\n",
        "ax = fig.add_axes([0,0,1,1])\n",
        "labels = ['TPR', 'FPR', 'ACC']\n",
        "x = np.arange(len(labels))  # the label locations\n",
        "ax.bar(X + 0.00, data[0], color = '#d3a293', width = 0.20)\n",
        "ax.bar(X + 0.20, data[1], color = '#ba707e', width = 0.20)\n",
        "ax.bar(X + 0.40, data[2], color = '#995374', width = 0.20)\n",
        "ax.bar(X + 0.60, data[3], color = '#4f3159', width = 0.20)\n",
        "ax.legend(labels=['ED1', 'ED2', 'DLE1', 'DLE2'])\n",
        "ax.set_xticks(x+0.30)\n",
        "ax.set_ylim([0, 1])\n",
        "\n",
        "ax.set_xlabel('Answer rate per participant', fontsize = 16)\n",
        "ax.set_ylabel('Rate', fontsize = 16)\n",
        "ax.set_title('Synthetic answer analysis', fontsize = 16)\n",
        "ax.set_xticklabels(labels)\n"
      ],
      "metadata": {
        "colab": {
          "base_uri": "https://localhost:8080/",
          "height": 393
        },
        "id": "QSzj6KY1xCyC",
        "outputId": "ffb07a44-8115-4097-8415-1ef56f7d7700"
      },
      "execution_count": 104,
      "outputs": [
        {
          "output_type": "execute_result",
          "data": {
            "text/plain": [
              "[Text(0, 0, 'TPR'), Text(0, 0, 'FPR'), Text(0, 0, 'ACC')]"
            ]
          },
          "metadata": {},
          "execution_count": 104
        },
        {
          "output_type": "display_data",
          "data": {
            "text/plain": [
              "<Figure size 432x288 with 1 Axes>"
            ],
            "image/png": "[encoded data removed]"
          },
          "metadata": {}
        }
      ]
    },
    {
      "cell_type": "code",
      "source": [
        "print(TPR_synth ,FPR_synth, acc_synth)"
      ],
      "metadata": {
        "colab": {
          "base_uri": "https://localhost:8080/"
        },
        "id": "M6-4FryVLB3a",
        "outputId": "08dc019c-1f51-4331-cb57-6a1a10f73cff"
      },
      "execution_count": null,
      "outputs": [
        {
          "output_type": "stream",
          "name": "stdout",
          "text": [
            "[0.66666667 0.36190476 0.60952381 0.34285714] [0.34736842 0.47368421 0.50526316 0.32631579] [0.66  0.44  0.555 0.5  ]\n"
          ]
        }
      ]
    },
    {
      "cell_type": "code",
      "source": [
        "fn_synth"
      ],
      "metadata": {
        "id": "9X3EBAH-NhqA",
        "colab": {
          "base_uri": "https://localhost:8080/"
        },
        "outputId": "fad0afd2-b4fe-498d-e600-21bb8db54b89"
      },
      "execution_count": null,
      "outputs": [
        {
          "output_type": "execute_result",
          "data": {
            "text/plain": [
              "array([35., 67., 41., 69.])"
            ]
          },
          "metadata": {},
          "execution_count": 128
        }
      ]
    },
    {
      "cell_type": "code",
      "source": [
        "tp_synth/(fn_synth+tp_synth)"
      ],
      "metadata": {
        "colab": {
          "base_uri": "https://localhost:8080/"
        },
        "id": "qHQVpA5mBhMs",
        "outputId": "f4e400f5-b472-4fbc-ecc4-3d7a966e4191"
      },
      "execution_count": null,
      "outputs": [
        {
          "output_type": "execute_result",
          "data": {
            "text/plain": [
              "array([0.66666667, 0.36190476, 0.60952381, 0.34285714])"
            ]
          },
          "metadata": {},
          "execution_count": 133
        }
      ]
    },
    {
      "cell_type": "code",
      "source": [
        "tp_synth + tn_synth"
      ],
      "metadata": {
        "colab": {
          "base_uri": "https://localhost:8080/"
        },
        "id": "iXIWRC1dCQfY",
        "outputId": "7a80966e-99dd-433c-98e2-c7d4aad685c2"
      },
      "execution_count": null,
      "outputs": [
        {
          "output_type": "execute_result",
          "data": {
            "text/plain": [
              "array([132.,  88., 111., 100.])"
            ]
          },
          "metadata": {},
          "execution_count": 135
        }
      ]
    },
    {
      "cell_type": "code",
      "source": [
        "df_labels"
      ],
      "metadata": {
        "colab": {
          "base_uri": "https://localhost:8080/",
          "height": 766
        },
        "id": "P5qYCVVhLvcG",
        "outputId": "d0f1920c-da00-42bd-8091-732fe4ee7c47"
      },
      "execution_count": null,
      "outputs": [
        {
          "output_type": "execute_result",
          "data": {
            "text/plain": [
              "                     Timestamp                        Username  \\\n",
              "0  2022/04/22 6:37:24 PM GMT+2         anna_frosen@hotmail.com   \n",
              "1  2022/04/27 9:27:56 AM GMT+2           sam.polesie@gmail.com   \n",
              "2  2022/05/02 9:29:14 AM GMT+2      lisa.l.sjoblom@vgregion.se   \n",
              "3  2022/05/09 3:46:24 PM GMT+2      juulia.suvilehto@gmail.com   \n",
              "4  2022/05/11 9:44:50 AM GMT+2  noora.neittaanmaki@vgregion.se   \n",
              "\n",
              "                      Unnamed: 2 Diagnosis of lesion Is this image synthetic?  \\\n",
              "0                            NaN   invasive melanoma                      Yes   \n",
              "1                  Dermatologist        not melanoma                      Yes   \n",
              "2  Lay person (i.e. non-medical)        not melanoma                      Yes   \n",
              "3           Deep learning expert        not melanoma                       No   \n",
              "4                  Dermatologist        not melanoma                       No   \n",
              "\n",
              "   Level of certainty: Diagnosis of lesion.1 Is this image synthetic?.1  \\\n",
              "0                  NaN     invasive melanoma                        Yes   \n",
              "1                  4.0          not melanoma                         No   \n",
              "2                  3.0    malignant melanoma                         No   \n",
              "3                  3.0    malignant melanoma                         No   \n",
              "4                  4.0    malignant melanoma                        Yes   \n",
              "\n",
              "   Level of certainty:.1 Diagnosis of lesion.2  ... Level of certainty:.197  \\\n",
              "0                    NaN       benign melanoma  ...                     NaN   \n",
              "1                    4.0          not melanoma  ...                     3.0   \n",
              "2                    3.0          not melanoma  ...                     2.0   \n",
              "3                    3.0          not melanoma  ...                     2.0   \n",
              "4                    3.0          not melanoma  ...                     4.0   \n",
              "\n",
              "   Diagnosis of lesion.198 Is this image synthetic?.198  \\\n",
              "0          benign melanoma                          Yes   \n",
              "1             not melanoma                          Yes   \n",
              "2             not melanoma                           No   \n",
              "3             not melanoma                           No   \n",
              "4             not melanoma                          Yes   \n",
              "\n",
              "  Level of certainty:.198  Diagnosis of lesion.199  \\\n",
              "0                     NaN          benign melanoma   \n",
              "1                     2.0             not melanoma   \n",
              "2                     2.0             not melanoma   \n",
              "3                     3.0             not melanoma   \n",
              "4                     4.0             not melanoma   \n",
              "\n",
              "  Is this image synthetic?.199 Level of certainty:.199  \\\n",
              "0                          Yes                     NaN   \n",
              "1                          Yes                     3.0   \n",
              "2                          Yes                     2.0   \n",
              "3                          Yes                     3.0   \n",
              "4                           No                     4.0   \n",
              "\n",
              "      Overall how convincing were the \"fake\" images?  \\\n",
              "0                                                NaN   \n",
              "1  I would say they were very convincing. Hair st...   \n",
              "2  Hard to say when you don't have the correct an...   \n",
              "3  very convincing! well done! I was mainly focus...   \n",
              "4          Some pretty convincing, some clearly fake   \n",
              "\n",
              "  Any comments for us in regards to the images or the process of the survey?  \\\n",
              "0                                                NaN                           \n",
              "1  When you say malignant melanoma you automatica...                           \n",
              "2                                                 No                           \n",
              "3                                                NaN                           \n",
              "4         The images should be bigger (whole screen)                           \n",
              "\n",
              "  If you would like to receive the results from the survey and the report that it will contribute to, please leave your email:  \n",
              "0                                                NaN                                                                            \n",
              "1                              sam.polesie@gmail.com                                                                            \n",
              "2                                                NaN                                                                            \n",
              "3                                                NaN                                                                            \n",
              "4                     noora.neittaanmaki@vgregion.se                                                                            \n",
              "\n",
              "[5 rows x 606 columns]"
            ],
            "text/html": [
              "\n",
              "  <div id=\"df-0bd2ec73-8a92-40f6-998c-a98795988d93\">\n",
              "    <div class=\"colab-df-container\">\n",
              "      <div>\n",
              "<style scoped>\n",
              "    .dataframe tbody tr th:only-of-type {\n",
              "        vertical-align: middle;\n",
              "    }\n",
              "\n",
              "    .dataframe tbody tr th {\n",
              "        vertical-align: top;\n",
              "    }\n",
              "\n",
              "    .dataframe thead th {\n",
              "        text-align: right;\n",
              "    }\n",
              "</style>\n",
              "<table border=\"1\" class=\"dataframe\">\n",
              "  <thead>\n",
              "    <tr style=\"text-align: right;\">\n",
              "      <th></th>\n",
              "      <th>Timestamp</th>\n",
              "      <th>Username</th>\n",
              "      <th>Unnamed: 2</th>\n",
              "      <th>Diagnosis of lesion</th>\n",
              "      <th>Is this image synthetic?</th>\n",
              "      <th>Level of certainty:</th>\n",
              "      <th>Diagnosis of lesion.1</th>\n",
              "      <th>Is this image synthetic?.1</th>\n",
              "      <th>Level of certainty:.1</th>\n",
              "      <th>Diagnosis of lesion.2</th>\n",
              "      <th>...</th>\n",
              "      <th>Level of certainty:.197</th>\n",
              "      <th>Diagnosis of lesion.198</th>\n",
              "      <th>Is this image synthetic?.198</th>\n",
              "      <th>Level of certainty:.198</th>\n",
              "      <th>Diagnosis of lesion.199</th>\n",
              "      <th>Is this image synthetic?.199</th>\n",
              "      <th>Level of certainty:.199</th>\n",
              "      <th>Overall how convincing were the \"fake\" images?</th>\n",
              "      <th>Any comments for us in regards to the images or the process of the survey?</th>\n",
              "      <th>If you would like to receive the results from the survey and the report that it will contribute to, please leave your email:</th>\n",
              "    </tr>\n",
              "  </thead>\n",
              "  <tbody>\n",
              "    <tr>\n",
              "      <th>0</th>\n",
              "      <td>2022/04/22 6:37:24 PM GMT+2</td>\n",
              "      <td>anna_frosen@hotmail.com</td>\n",
              "      <td>NaN</td>\n",
              "      <td>invasive melanoma</td>\n",
              "      <td>Yes</td>\n",
              "      <td>NaN</td>\n",
              "      <td>invasive melanoma</td>\n",
              "      <td>Yes</td>\n",
              "      <td>NaN</td>\n",
              "      <td>benign melanoma</td>\n",
              "      <td>...</td>\n",
              "      <td>NaN</td>\n",
              "      <td>benign melanoma</td>\n",
              "      <td>Yes</td>\n",
              "      <td>NaN</td>\n",
              "      <td>benign melanoma</td>\n",
              "      <td>Yes</td>\n",
              "      <td>NaN</td>\n",
              "      <td>NaN</td>\n",
              "      <td>NaN</td>\n",
              "      <td>NaN</td>\n",
              "    </tr>\n",
              "    <tr>\n",
              "      <th>1</th>\n",
              "      <td>2022/04/27 9:27:56 AM GMT+2</td>\n",
              "      <td>sam.polesie@gmail.com</td>\n",
              "      <td>Dermatologist</td>\n",
              "      <td>not melanoma</td>\n",
              "      <td>Yes</td>\n",
              "      <td>4.0</td>\n",
              "      <td>not melanoma</td>\n",
              "      <td>No</td>\n",
              "      <td>4.0</td>\n",
              "      <td>not melanoma</td>\n",
              "      <td>...</td>\n",
              "      <td>3.0</td>\n",
              "      <td>not melanoma</td>\n",
              "      <td>Yes</td>\n",
              "      <td>2.0</td>\n",
              "      <td>not melanoma</td>\n",
              "      <td>Yes</td>\n",
              "      <td>3.0</td>\n",
              "      <td>I would say they were very convincing. Hair st...</td>\n",
              "      <td>When you say malignant melanoma you automatica...</td>\n",
              "      <td>sam.polesie@gmail.com</td>\n",
              "    </tr>\n",
              "    <tr>\n",
              "      <th>2</th>\n",
              "      <td>2022/05/02 9:29:14 AM GMT+2</td>\n",
              "      <td>lisa.l.sjoblom@vgregion.se</td>\n",
              "      <td>Lay person (i.e. non-medical)</td>\n",
              "      <td>not melanoma</td>\n",
              "      <td>Yes</td>\n",
              "      <td>3.0</td>\n",
              "      <td>malignant melanoma</td>\n",
              "      <td>No</td>\n",
              "      <td>3.0</td>\n",
              "      <td>not melanoma</td>\n",
              "      <td>...</td>\n",
              "      <td>2.0</td>\n",
              "      <td>not melanoma</td>\n",
              "      <td>No</td>\n",
              "      <td>2.0</td>\n",
              "      <td>not melanoma</td>\n",
              "      <td>Yes</td>\n",
              "      <td>2.0</td>\n",
              "      <td>Hard to say when you don't have the correct an...</td>\n",
              "      <td>No</td>\n",
              "      <td>NaN</td>\n",
              "    </tr>\n",
              "    <tr>\n",
              "      <th>3</th>\n",
              "      <td>2022/05/09 3:46:24 PM GMT+2</td>\n",
              "      <td>juulia.suvilehto@gmail.com</td>\n",
              "      <td>Deep learning expert</td>\n",
              "      <td>not melanoma</td>\n",
              "      <td>No</td>\n",
              "      <td>3.0</td>\n",
              "      <td>malignant melanoma</td>\n",
              "      <td>No</td>\n",
              "      <td>3.0</td>\n",
              "      <td>not melanoma</td>\n",
              "      <td>...</td>\n",
              "      <td>2.0</td>\n",
              "      <td>not melanoma</td>\n",
              "      <td>No</td>\n",
              "      <td>3.0</td>\n",
              "      <td>not melanoma</td>\n",
              "      <td>Yes</td>\n",
              "      <td>3.0</td>\n",
              "      <td>very convincing! well done! I was mainly focus...</td>\n",
              "      <td>NaN</td>\n",
              "      <td>NaN</td>\n",
              "    </tr>\n",
              "    <tr>\n",
              "      <th>4</th>\n",
              "      <td>2022/05/11 9:44:50 AM GMT+2</td>\n",
              "      <td>noora.neittaanmaki@vgregion.se</td>\n",
              "      <td>Dermatologist</td>\n",
              "      <td>not melanoma</td>\n",
              "      <td>No</td>\n",
              "      <td>4.0</td>\n",
              "      <td>malignant melanoma</td>\n",
              "      <td>Yes</td>\n",
              "      <td>3.0</td>\n",
              "      <td>not melanoma</td>\n",
              "      <td>...</td>\n",
              "      <td>4.0</td>\n",
              "      <td>not melanoma</td>\n",
              "      <td>Yes</td>\n",
              "      <td>4.0</td>\n",
              "      <td>not melanoma</td>\n",
              "      <td>No</td>\n",
              "      <td>4.0</td>\n",
              "      <td>Some pretty convincing, some clearly fake</td>\n",
              "      <td>The images should be bigger (whole screen)</td>\n",
              "      <td>noora.neittaanmaki@vgregion.se</td>\n",
              "    </tr>\n",
              "  </tbody>\n",
              "</table>\n",
              "<p>5 rows × 606 columns</p>\n",
              "</div>\n",
              "      <button class=\"colab-df-convert\" onclick=\"convertToInteractive('df-0bd2ec73-8a92-40f6-998c-a98795988d93')\"\n",
              "              title=\"Convert this dataframe to an interactive table.\"\n",
              "              style=\"display:none;\">\n",
              "        \n",
              "  <svg xmlns=\"http://www.w3.org/2000/svg\" height=\"24px\"viewBox=\"0 0 24 24\"\n",
              "       width=\"24px\">\n",
              "    <path d=\"M0 0h24v24H0V0z\" fill=\"none\"/>\n",
              "    <path d=\"M18.56 5.44l.94 2.06.94-2.06 2.06-.94-2.06-.94-.94-2.06-.94 2.06-2.06.94zm-11 1L8.5 8.5l.94-2.06 2.06-.94-2.06-.94L8.5 2.5l-.94 2.06-2.06.94zm10 10l.94 2.06.94-2.06 2.06-.94-2.06-.94-.94-2.06-.94 2.06-2.06.94z\"/><path d=\"M17.41 7.96l-1.37-1.37c-.4-.4-.92-.59-1.43-.59-.52 0-1.04.2-1.43.59L10.3 9.45l-7.72 7.72c-.78.78-.78 2.05 0 2.83L4 21.41c.39.39.9.59 1.41.59.51 0 1.02-.2 1.41-.59l7.78-7.78 2.81-2.81c.8-.78.8-2.07 0-2.86zM5.41 20L4 18.59l7.72-7.72 1.47 1.35L5.41 20z\"/>\n",
              "  </svg>\n",
              "      </button>\n",
              "      \n",
              "  <style>\n",
              "    .colab-df-container {\n",
              "      display:flex;\n",
              "      flex-wrap:wrap;\n",
              "      gap: 12px;\n",
              "    }\n",
              "\n",
              "    .colab-df-convert {\n",
              "      background-color: #E8F0FE;\n",
              "      border: none;\n",
              "      border-radius: 50%;\n",
              "      cursor: pointer;\n",
              "      display: none;\n",
              "      fill: #1967D2;\n",
              "      height: 32px;\n",
              "      padding: 0 0 0 0;\n",
              "      width: 32px;\n",
              "    }\n",
              "\n",
              "    .colab-df-convert:hover {\n",
              "      background-color: #E2EBFA;\n",
              "      box-shadow: 0px 1px 2px rgba(60, 64, 67, 0.3), 0px 1px 3px 1px rgba(60, 64, 67, 0.15);\n",
              "      fill: #174EA6;\n",
              "    }\n",
              "\n",
              "    [theme=dark] .colab-df-convert {\n",
              "      background-color: #3B4455;\n",
              "      fill: #D2E3FC;\n",
              "    }\n",
              "\n",
              "    [theme=dark] .colab-df-convert:hover {\n",
              "      background-color: #434B5C;\n",
              "      box-shadow: 0px 1px 3px 1px rgba(0, 0, 0, 0.15);\n",
              "      filter: drop-shadow(0px 1px 2px rgba(0, 0, 0, 0.3));\n",
              "      fill: #FFFFFF;\n",
              "    }\n",
              "  </style>\n",
              "\n",
              "      <script>\n",
              "        const buttonEl =\n",
              "          document.querySelector('#df-0bd2ec73-8a92-40f6-998c-a98795988d93 button.colab-df-convert');\n",
              "        buttonEl.style.display =\n",
              "          google.colab.kernel.accessAllowed ? 'block' : 'none';\n",
              "\n",
              "        async function convertToInteractive(key) {\n",
              "          const element = document.querySelector('#df-0bd2ec73-8a92-40f6-998c-a98795988d93');\n",
              "          const dataTable =\n",
              "            await google.colab.kernel.invokeFunction('convertToInteractive',\n",
              "                                                     [key], {});\n",
              "          if (!dataTable) return;\n",
              "\n",
              "          const docLinkHtml = 'Like what you see? Visit the ' +\n",
              "            '<a target=\"_blank\" href=https://colab.research.google.com/notebooks/data_table.ipynb>data table notebook</a>'\n",
              "            + ' to learn more about interactive tables.';\n",
              "          element.innerHTML = '';\n",
              "          dataTable['output_type'] = 'display_data';\n",
              "          await google.colab.output.renderOutput(dataTable, element);\n",
              "          const docLink = document.createElement('div');\n",
              "          docLink.innerHTML = docLinkHtml;\n",
              "          element.appendChild(docLink);\n",
              "        }\n",
              "      </script>\n",
              "    </div>\n",
              "  </div>\n",
              "  "
            ]
          },
          "metadata": {},
          "execution_count": 136
        }
      ]
    },
    {
      "cell_type": "code",
      "source": [
        "tmp2 = np.round(np.sum(synth_matrix, axis=0)/4)\n",
        "# tmp2 = synth_matrix[3]"
      ],
      "metadata": {
        "id": "ryjui24peBk1"
      },
      "execution_count": 18,
      "outputs": []
    },
    {
      "cell_type": "code",
      "source": [
        "tmp2"
      ],
      "metadata": {
        "colab": {
          "base_uri": "https://localhost:8080/"
        },
        "id": "TayeX9c40-Ii",
        "outputId": "d66338ae-8290-4ec9-c204-4db5cc516f8d"
      },
      "execution_count": 19,
      "outputs": [
        {
          "output_type": "execute_result",
          "data": {
            "text/plain": [
              "array([ 0., -0., -1.,  0.,  0., -0.,  0.,  0., -0., -0.,  0.,  0.,  0.,\n",
              "        0.,  0.,  0., -1., -1., -1.,  0.,  0., -0., -0., -0.,  0., -0.,\n",
              "       -0.,  0.,  1., -0., -1.,  0.,  0., -0.,  0.,  0., -1., -0.,  0.,\n",
              "       -1.,  0., -0., -0.,  0., -1., -0.,  0., -0., -1.,  0.,  0.,  0.,\n",
              "        0.,  0.,  0.,  0., -1.,  0.,  0., -0., -1.,  0., -0.,  0., -0.,\n",
              "       -0., -1.,  0.,  0.,  0., -0.,  0., -0., -0.,  0.,  0.,  0.,  0.,\n",
              "       -1.,  0.,  0.,  0.,  0.,  0.,  0.,  0.,  0.,  0.,  0.,  0., -0.,\n",
              "       -0., -1.,  0.,  0.,  0.,  0.,  0.,  0.,  0.,  0., -0.,  1., -0.,\n",
              "        1., -0., -0.,  0., -1., -1.,  0.,  0.,  0.,  0.,  0.,  1.,  0.,\n",
              "        0., -0.,  0., -0., -0.,  0.,  0., -1.,  0.,  0., -0.,  0.,  0.,\n",
              "        0., -0.,  0., -0.,  0.,  0.,  0.,  0.,  0.,  1., -0., -1., -0.,\n",
              "        0.,  0.,  0., -0.,  0.,  0., -0.,  0.,  0., -0.,  0.,  1., -0.,\n",
              "        0.,  0.,  0.,  0., -0., -0.,  0., -0., -0.,  0., -1.,  0.,  0.,\n",
              "       -0., -1., -0.,  0.,  0., -0.,  1., -0.,  0.,  0.,  0.,  0.,  0.,\n",
              "        0., -1.,  0.,  0., -0., -0., -0.,  0.,  1.,  0., -0.,  0., -0.,\n",
              "        0.,  0.,  0.,  0.,  0.])"
            ]
          },
          "metadata": {},
          "execution_count": 19
        }
      ]
    },
    {
      "cell_type": "code",
      "source": [
        "# tmp3 = np.where((tmp2 + synth_label_gt)==-2)[0]\n",
        "synth_norm"
      ],
      "metadata": {
        "id": "2ydnrfKIrx0a",
        "outputId": "aeaf6adc-11c1-491e-df35-d2d3a8a6f45e",
        "colab": {
          "base_uri": "https://localhost:8080/"
        }
      },
      "execution_count": 34,
      "outputs": [
        {
          "output_type": "execute_result",
          "data": {
            "text/plain": [
              "array([[1., 0., 0., 0., 0., 0., 1., 0., 0., 0., 0., 0., 0., 0., 1., 0.,\n",
              "        0., 0., 0., 0., 1., 1., 1., 0., 1., 0., 1., 1., 1., 1., 0., 0.,\n",
              "        1., 0., 1., 0., 0., 0., 0., 0., 1., 0., 0., 1., 0., 0., 1., 0.,\n",
              "        0., 1., 1., 1., 1., 0., 0., 1., 0., 1., 1., 0., 0., 1., 0., 0.,\n",
              "        0., 0., 0., 0., 1., 1., 1., 1., 0., 0., 1., 1., 0., 1., 0., 1.,\n",
              "        1., 1., 1., 0., 1., 1., 1., 1., 1., 0., 0., 0., 0., 1., 1., 1.,\n",
              "        1., 1., 0., 0., 0., 0., 1., 0., 1., 1., 0., 1., 0., 0., 1., 0.,\n",
              "        0., 1., 0., 1., 0., 0., 0., 1., 1., 0., 1., 1., 0., 1., 1., 1.,\n",
              "        0., 1., 1., 0., 1., 0., 1., 1., 0., 1., 0., 1., 0., 0., 0., 1.,\n",
              "        0., 1., 1., 1., 0., 0., 0., 1., 0., 1., 1., 1., 0., 1., 1., 1.,\n",
              "        1., 0., 1., 1., 0., 1., 0., 1., 1., 0., 0., 0., 1., 1., 0., 1.,\n",
              "        0., 1., 1., 1., 0., 1., 1., 0., 1., 1., 1., 0., 1., 0., 1., 1.,\n",
              "        0., 1., 1., 0., 1., 1., 1., 1.],\n",
              "       [0., 1., 0., 1., 0., 1., 0., 1., 1., 1., 0., 1., 0., 0., 1., 1.,\n",
              "        0., 0., 0., 0., 1., 0., 0., 0., 0., 0., 0., 0., 1., 0., 0., 0.,\n",
              "        1., 0., 0., 1., 0., 0., 1., 0., 0., 0., 1., 1., 0., 0., 1., 0.,\n",
              "        0., 0., 0., 0., 0., 0., 0., 0., 0., 0., 0., 0., 0., 0., 1., 0.,\n",
              "        1., 0., 0., 0., 0., 0., 0., 0., 0., 0., 0., 1., 1., 0., 0., 0.,\n",
              "        1., 0., 0., 1., 1., 0., 0., 0., 0., 1., 1., 1., 0., 1., 1., 1.,\n",
              "        1., 0., 1., 1., 1., 0., 1., 0., 1., 0., 1., 1., 0., 0., 0., 0.,\n",
              "        0., 1., 1., 1., 0., 0., 0., 0., 0., 0., 0., 1., 0., 0., 0., 0.,\n",
              "        1., 1., 0., 0., 0., 0., 1., 0., 1., 0., 1., 1., 0., 0., 0., 0.,\n",
              "        1., 0., 0., 1., 1., 0., 1., 0., 0., 0., 1., 0., 1., 0., 0., 0.,\n",
              "        0., 0., 0., 0., 1., 0., 0., 0., 0., 0., 0., 0., 1., 0., 1., 1.,\n",
              "        0., 0., 0., 0., 0., 1., 0., 0., 1., 0., 0., 0., 0., 0., 1., 1.,\n",
              "        1., 1., 0., 0., 1., 1., 1., 0.],\n",
              "       [1., 0., 0., 0., 1., 0., 0., 1., 0., 0., 1., 1., 1., 1., 0., 1.,\n",
              "        0., 0., 0., 1., 0., 0., 0., 1., 1., 1., 0., 1., 1., 0., 0., 1.,\n",
              "        0., 0., 1., 0., 0., 0., 1., 0., 0., 0., 0., 1., 0., 1., 0., 0.,\n",
              "        0., 1., 1., 0., 1., 1., 1., 1., 0., 1., 0., 0., 0., 0., 0., 1.,\n",
              "        0., 0., 0., 1., 1., 1., 0., 0., 0., 0., 1., 0., 0., 0., 0., 1.,\n",
              "        0., 1., 1., 1., 1., 1., 0., 1., 1., 1., 0., 0., 0., 0., 0., 0.,\n",
              "        1., 0., 1., 0., 1., 1., 1., 1., 1., 0., 0., 0., 0., 0., 0., 1.,\n",
              "        1., 0., 1., 1., 1., 1., 0., 1., 0., 0., 1., 0., 0., 0., 1., 0.,\n",
              "        1., 0., 1., 1., 1., 0., 0., 1., 1., 0., 0., 1., 0., 0., 1., 1.,\n",
              "        0., 1., 0., 0., 0., 1., 0., 1., 1., 0., 1., 0., 1., 0., 0., 1.,\n",
              "        0., 0., 0., 0., 0., 1., 0., 1., 1., 0., 0., 0., 0., 1., 0., 1.,\n",
              "        0., 0., 1., 0., 1., 0., 0., 0., 0., 0., 0., 0., 0., 1., 1., 0.,\n",
              "        0., 0., 0., 1., 0., 0., 0., 1.],\n",
              "       [0., 0., 0., 1., 1., 0., 1., 0., 0., 0., 1., 0., 1., 1., 1., 0.,\n",
              "        0., 0., 0., 1., 0., 0., 0., 0., 1., 0., 0., 1., 1., 0., 0., 1.,\n",
              "        0., 1., 1., 1., 0., 1., 0., 0., 1., 1., 0., 0., 0., 0., 1., 1.,\n",
              "        0., 0., 1., 1., 1., 1., 1., 1., 0., 1., 1., 1., 0., 1., 0., 1.,\n",
              "        0., 1., 0., 1., 1., 1., 0., 1., 1., 1., 0., 0., 1., 1., 0., 1.,\n",
              "        1., 1., 0., 0., 0., 1., 1., 0., 0., 0., 0., 0., 0., 1., 1., 0.,\n",
              "        0., 1., 1., 1., 0., 0., 1., 0., 1., 0., 0., 1., 0., 0., 1., 1.,\n",
              "        1., 1., 1., 1., 1., 1., 1., 1., 0., 1., 1., 0., 0., 1., 1., 0.,\n",
              "        0., 0., 1., 0., 1., 1., 1., 1., 1., 1., 1., 1., 1., 0., 0., 0.,\n",
              "        1., 0., 0., 0., 1., 0., 1., 1., 0., 1., 1., 0., 1., 1., 1., 1.,\n",
              "        0., 1., 1., 0., 0., 1., 0., 0., 1., 1., 0., 1., 0., 1., 0., 1.,\n",
              "        1., 1., 1., 1., 1., 1., 1., 0., 1., 1., 0., 1., 0., 1., 1., 0.,\n",
              "        0., 1., 0., 1., 1., 1., 0., 1.]])"
            ]
          },
          "metadata": {},
          "execution_count": 34
        }
      ]
    },
    {
      "cell_type": "code",
      "source": [
        "pred = (tmp2+1)/2\n",
        "true = (synth_label_gt+1)/2"
      ],
      "metadata": {
        "id": "rJzsts_bNtMy"
      },
      "execution_count": 20,
      "outputs": []
    },
    {
      "cell_type": "code",
      "source": [
        "# matching data\n",
        "# synth_matrix[who][data]\n",
        "# -1 is synthetic\n",
        "synth_norm = (synth_matrix+1)/2\n",
        "synth_norm\n",
        "sns.set_style(style='white') \n",
        "\n",
        " \n",
        "length = len(synth_norm[1][:])\n",
        "match = np.zeros(length)\n",
        "correct_guesses = np.zeros(5)\n",
        "# print(correct_guesses)\n",
        "\n",
        "for i in range(0,length):\n",
        "  \n",
        "  match[i] = 0 + synth_norm[0][i] + synth_norm[1][i] + synth_norm[2][i] + synth_norm[3][i] \n",
        "  # print(int(match[i]))\n",
        "  if true[i] == 1:\n",
        "    correct_guesses[int(match[i])] = correct_guesses[int(match[i])]+1\n",
        "print(correct_guesses)\n",
        "\n",
        "fig = plt.figure()\n",
        "ax = fig.add_axes([0,0,1,1])\n",
        "labels = ['0','1','2', '3', '4']\n",
        "# x = ['A', 'B', 'C']\n",
        "y = correct_guesses\n",
        "# \n",
        "sns.barplot(labels, y, palette=colors)\n",
        "# sns.set(font_scale = 1)\n",
        "\n",
        "x = np.arange(len(labels))  # the label locations\n",
        "\n",
        "ax.set_xticks(x)\n",
        "# ax.set_ylim([0, 1])\n",
        "\n",
        "\n",
        "ax.set_xticklabels(labels)\n",
        "ax.set_xlabel('Participant correct guesses', fontsize = 16)\n",
        "ax.set_ylabel('Number of images', fontsize = 16)\n",
        "ax.set_title('Correct guesses per image', fontsize = 16)"
      ],
      "metadata": {
        "id": "v_UWbj5OqVSp",
        "outputId": "28ea54a5-82cc-445d-9f43-896c5727d545",
        "colab": {
          "base_uri": "https://localhost:8080/",
          "height": 469
        }
      },
      "execution_count": 103,
      "outputs": [
        {
          "output_type": "stream",
          "name": "stdout",
          "text": [
            "[ 7. 28. 35. 30.  5.]\n"
          ]
        },
        {
          "output_type": "stream",
          "name": "stderr",
          "text": [
            "/usr/local/lib/python3.7/dist-packages/seaborn/_decorators.py:43: FutureWarning: Pass the following variables as keyword args: x, y. From version 0.12, the only valid positional argument will be `data`, and passing other arguments without an explicit keyword will result in an error or misinterpretation.\n",
            "  FutureWarning\n"
          ]
        },
        {
          "output_type": "execute_result",
          "data": {
            "text/plain": [
              "Text(0.5, 1.0, 'Correct guesses per image')"
            ]
          },
          "metadata": {},
          "execution_count": 103
        },
        {
          "output_type": "display_data",
          "data": {
            "text/plain": [
              "<Figure size 432x288 with 1 Axes>"
            ],
            "image/png": "[encoded data removed]"
          },
          "metadata": {}
        }
      ]
    },
    {
      "cell_type": "code",
      "source": [
        "true"
      ],
      "metadata": {
        "id": "YQo7Uh3bqEsa",
        "outputId": "56f76f80-2e51-4306-d7e5-844ca4c5aede",
        "colab": {
          "base_uri": "https://localhost:8080/"
        }
      },
      "execution_count": 21,
      "outputs": [
        {
          "output_type": "execute_result",
          "data": {
            "text/plain": [
              "array([0., 1., 1., 1., 1., 0., 1., 0., 0., 1., 0., 0., 1., 1., 1., 0., 0.,\n",
              "       1., 0., 0., 0., 1., 0., 1., 0., 1., 1., 0., 1., 1., 0., 1., 1., 1.,\n",
              "       0., 0., 1., 0., 0., 0., 0., 1., 1., 1., 0., 0., 0., 1., 1., 0., 1.,\n",
              "       0., 1., 0., 1., 1., 0., 0., 1., 0., 1., 0., 1., 0., 1., 0., 0., 0.,\n",
              "       1., 1., 1., 1., 0., 1., 0., 1., 0., 1., 0., 1., 0., 1., 1., 0., 1.,\n",
              "       1., 1., 1., 1., 0., 1., 0., 0., 1., 1., 1., 0., 1., 1., 0., 0., 0.,\n",
              "       1., 0., 0., 1., 0., 1., 0., 1., 1., 0., 1., 1., 0., 1., 0., 0., 0.,\n",
              "       1., 0., 1., 1., 1., 0., 1., 0., 1., 0., 1., 1., 0., 0., 0., 1., 1.,\n",
              "       1., 1., 0., 0., 0., 1., 1., 0., 0., 0., 1., 0., 1., 0., 0., 1., 0.,\n",
              "       1., 1., 1., 0., 1., 1., 1., 1., 0., 1., 0., 0., 0., 0., 0., 1., 1.,\n",
              "       0., 0., 0., 1., 1., 0., 0., 1., 0., 0., 0., 1., 1., 0., 1., 1., 0.,\n",
              "       0., 1., 0., 1., 1., 1., 1., 1., 1., 0., 1., 1., 0.])"
            ]
          },
          "metadata": {},
          "execution_count": 21
        }
      ]
    },
    {
      "cell_type": "code",
      "source": [
        "unq = np.array([x + 2*y for x, y in zip(pred, true)])\n",
        "tp = np.array(np.where(unq == 3)).tolist()[0]\n",
        "fp = np.array(np.where(unq == 1)).tolist()[0]\n",
        "tn = np.array(np.where(unq == 0)).tolist()[0]\n",
        "fn = np.array(np.where(unq == 2)).tolist()[0]"
      ],
      "metadata": {
        "id": "8n8brLIYXHwz"
      },
      "execution_count": null,
      "outputs": []
    },
    {
      "cell_type": "code",
      "source": [
        "fn1 = np.asarray(fn)\n",
        "len(df_gt.iloc[fn1])"
      ],
      "metadata": {
        "colab": {
          "base_uri": "https://localhost:8080/"
        },
        "id": "-sYM-Db1XUx8",
        "outputId": "02a99ffa-571d-415b-ef02-cb72d269032e"
      },
      "execution_count": null,
      "outputs": [
        {
          "output_type": "execute_result",
          "data": {
            "text/plain": [
              "35"
            ]
          },
          "metadata": {},
          "execution_count": 412
        }
      ]
    },
    {
      "cell_type": "code",
      "source": [
        "fn2 = np.asarray(fn)\n",
        "len(df_gt.iloc[fn2])"
      ],
      "metadata": {
        "colab": {
          "base_uri": "https://localhost:8080/"
        },
        "id": "tkwQLPVmUPZD",
        "outputId": "df344899-49bf-40a3-ab78-0d84094f8a47"
      },
      "execution_count": null,
      "outputs": [
        {
          "output_type": "execute_result",
          "data": {
            "text/plain": [
              "67"
            ]
          },
          "metadata": {},
          "execution_count": 416
        }
      ]
    },
    {
      "cell_type": "code",
      "source": [
        "fn3 = np.asarray(fn)\n",
        "len(df_gt.iloc[fn3])"
      ],
      "metadata": {
        "colab": {
          "base_uri": "https://localhost:8080/"
        },
        "id": "XhadtKfVWAJ8",
        "outputId": "8d363655-d803-41d7-c218-079c080ec9cf"
      },
      "execution_count": null,
      "outputs": [
        {
          "output_type": "execute_result",
          "data": {
            "text/plain": [
              "41"
            ]
          },
          "metadata": {},
          "execution_count": 421
        }
      ]
    },
    {
      "cell_type": "code",
      "source": [
        "fn4 = np.asarray(fn)\n",
        "len(df_gt.iloc[fn4])"
      ],
      "metadata": {
        "colab": {
          "base_uri": "https://localhost:8080/"
        },
        "id": "98cOUif9iA2p",
        "outputId": "84133159-f0b7-471f-e670-b0885ae18b47"
      },
      "execution_count": null,
      "outputs": [
        {
          "output_type": "execute_result",
          "data": {
            "text/plain": [
              "69"
            ]
          },
          "metadata": {},
          "execution_count": 427
        }
      ]
    },
    {
      "cell_type": "code",
      "source": [
        "intersection = set(fn1) & set(fn2) & set(fn3) & set(fn4)"
      ],
      "metadata": {
        "id": "r-cRYRkV1yUO"
      },
      "execution_count": null,
      "outputs": []
    },
    {
      "cell_type": "code",
      "source": [
        "intersection"
      ],
      "metadata": {
        "colab": {
          "base_uri": "https://localhost:8080/"
        },
        "id": "alOPPpA32M3t",
        "outputId": "516e16de-fe4c-4982-dda7-4e4cd285bc23"
      },
      "execution_count": null,
      "outputs": [
        {
          "output_type": "execute_result",
          "data": {
            "text/plain": [
              "{2, 17, 36, 48, 60, 109, 141}"
            ]
          },
          "metadata": {},
          "execution_count": 429
        }
      ]
    },
    {
      "cell_type": "code",
      "source": [
        "fn1 = np.asarray(fn)\n",
        "df_gt.iloc[fn1]"
      ],
      "metadata": {
        "colab": {
          "base_uri": "https://localhost:8080/",
          "height": 269
        },
        "id": "EnNvxB132NsG",
        "outputId": "c960e8b8-08cd-450a-ab02-f133aa1990a1"
      },
      "execution_count": null,
      "outputs": [
        {
          "output_type": "execute_result",
          "data": {
            "text/plain": [
              "                image_name  label  latent  edge  synthetic  order\n",
              "2           seed2401_b.jpg      0       0     0          1      3\n",
              "17          seed0274_m.jpg      1       0     0          1     18\n",
              "36   latent_seed100206.jpg      1       1     0          1     37\n",
              "48          seed1232_m.jpg      1       0     0          1     49\n",
              "60   latent_seed100032.jpg      1       1     0          1     61\n",
              "109  latent_seed100019.jpg      1       1     0          1    110\n",
              "141  latent_seed100462.jpg      1       1     0          1    142"
            ],
            "text/html": [
              "\n",
              "  <div id=\"df-ac13b06e-95db-4349-83aa-4e6df2d42183\">\n",
              "    <div class=\"colab-df-container\">\n",
              "      <div>\n",
              "<style scoped>\n",
              "    .dataframe tbody tr th:only-of-type {\n",
              "        vertical-align: middle;\n",
              "    }\n",
              "\n",
              "    .dataframe tbody tr th {\n",
              "        vertical-align: top;\n",
              "    }\n",
              "\n",
              "    .dataframe thead th {\n",
              "        text-align: right;\n",
              "    }\n",
              "</style>\n",
              "<table border=\"1\" class=\"dataframe\">\n",
              "  <thead>\n",
              "    <tr style=\"text-align: right;\">\n",
              "      <th></th>\n",
              "      <th>image_name</th>\n",
              "      <th>label</th>\n",
              "      <th>latent</th>\n",
              "      <th>edge</th>\n",
              "      <th>synthetic</th>\n",
              "      <th>order</th>\n",
              "    </tr>\n",
              "  </thead>\n",
              "  <tbody>\n",
              "    <tr>\n",
              "      <th>2</th>\n",
              "      <td>seed2401_b.jpg</td>\n",
              "      <td>0</td>\n",
              "      <td>0</td>\n",
              "      <td>0</td>\n",
              "      <td>1</td>\n",
              "      <td>3</td>\n",
              "    </tr>\n",
              "    <tr>\n",
              "      <th>17</th>\n",
              "      <td>seed0274_m.jpg</td>\n",
              "      <td>1</td>\n",
              "      <td>0</td>\n",
              "      <td>0</td>\n",
              "      <td>1</td>\n",
              "      <td>18</td>\n",
              "    </tr>\n",
              "    <tr>\n",
              "      <th>36</th>\n",
              "      <td>latent_seed100206.jpg</td>\n",
              "      <td>1</td>\n",
              "      <td>1</td>\n",
              "      <td>0</td>\n",
              "      <td>1</td>\n",
              "      <td>37</td>\n",
              "    </tr>\n",
              "    <tr>\n",
              "      <th>48</th>\n",
              "      <td>seed1232_m.jpg</td>\n",
              "      <td>1</td>\n",
              "      <td>0</td>\n",
              "      <td>0</td>\n",
              "      <td>1</td>\n",
              "      <td>49</td>\n",
              "    </tr>\n",
              "    <tr>\n",
              "      <th>60</th>\n",
              "      <td>latent_seed100032.jpg</td>\n",
              "      <td>1</td>\n",
              "      <td>1</td>\n",
              "      <td>0</td>\n",
              "      <td>1</td>\n",
              "      <td>61</td>\n",
              "    </tr>\n",
              "    <tr>\n",
              "      <th>109</th>\n",
              "      <td>latent_seed100019.jpg</td>\n",
              "      <td>1</td>\n",
              "      <td>1</td>\n",
              "      <td>0</td>\n",
              "      <td>1</td>\n",
              "      <td>110</td>\n",
              "    </tr>\n",
              "    <tr>\n",
              "      <th>141</th>\n",
              "      <td>latent_seed100462.jpg</td>\n",
              "      <td>1</td>\n",
              "      <td>1</td>\n",
              "      <td>0</td>\n",
              "      <td>1</td>\n",
              "      <td>142</td>\n",
              "    </tr>\n",
              "  </tbody>\n",
              "</table>\n",
              "</div>\n",
              "      <button class=\"colab-df-convert\" onclick=\"convertToInteractive('df-ac13b06e-95db-4349-83aa-4e6df2d42183')\"\n",
              "              title=\"Convert this dataframe to an interactive table.\"\n",
              "              style=\"display:none;\">\n",
              "        \n",
              "  <svg xmlns=\"http://www.w3.org/2000/svg\" height=\"24px\"viewBox=\"0 0 24 24\"\n",
              "       width=\"24px\">\n",
              "    <path d=\"M0 0h24v24H0V0z\" fill=\"none\"/>\n",
              "    <path d=\"M18.56 5.44l.94 2.06.94-2.06 2.06-.94-2.06-.94-.94-2.06-.94 2.06-2.06.94zm-11 1L8.5 8.5l.94-2.06 2.06-.94-2.06-.94L8.5 2.5l-.94 2.06-2.06.94zm10 10l.94 2.06.94-2.06 2.06-.94-2.06-.94-.94-2.06-.94 2.06-2.06.94z\"/><path d=\"M17.41 7.96l-1.37-1.37c-.4-.4-.92-.59-1.43-.59-.52 0-1.04.2-1.43.59L10.3 9.45l-7.72 7.72c-.78.78-.78 2.05 0 2.83L4 21.41c.39.39.9.59 1.41.59.51 0 1.02-.2 1.41-.59l7.78-7.78 2.81-2.81c.8-.78.8-2.07 0-2.86zM5.41 20L4 18.59l7.72-7.72 1.47 1.35L5.41 20z\"/>\n",
              "  </svg>\n",
              "      </button>\n",
              "      \n",
              "  <style>\n",
              "    .colab-df-container {\n",
              "      display:flex;\n",
              "      flex-wrap:wrap;\n",
              "      gap: 12px;\n",
              "    }\n",
              "\n",
              "    .colab-df-convert {\n",
              "      background-color: #E8F0FE;\n",
              "      border: none;\n",
              "      border-radius: 50%;\n",
              "      cursor: pointer;\n",
              "      display: none;\n",
              "      fill: #1967D2;\n",
              "      height: 32px;\n",
              "      padding: 0 0 0 0;\n",
              "      width: 32px;\n",
              "    }\n",
              "\n",
              "    .colab-df-convert:hover {\n",
              "      background-color: #E2EBFA;\n",
              "      box-shadow: 0px 1px 2px rgba(60, 64, 67, 0.3), 0px 1px 3px 1px rgba(60, 64, 67, 0.15);\n",
              "      fill: #174EA6;\n",
              "    }\n",
              "\n",
              "    [theme=dark] .colab-df-convert {\n",
              "      background-color: #3B4455;\n",
              "      fill: #D2E3FC;\n",
              "    }\n",
              "\n",
              "    [theme=dark] .colab-df-convert:hover {\n",
              "      background-color: #434B5C;\n",
              "      box-shadow: 0px 1px 3px 1px rgba(0, 0, 0, 0.15);\n",
              "      filter: drop-shadow(0px 1px 2px rgba(0, 0, 0, 0.3));\n",
              "      fill: #FFFFFF;\n",
              "    }\n",
              "  </style>\n",
              "\n",
              "      <script>\n",
              "        const buttonEl =\n",
              "          document.querySelector('#df-ac13b06e-95db-4349-83aa-4e6df2d42183 button.colab-df-convert');\n",
              "        buttonEl.style.display =\n",
              "          google.colab.kernel.accessAllowed ? 'block' : 'none';\n",
              "\n",
              "        async function convertToInteractive(key) {\n",
              "          const element = document.querySelector('#df-ac13b06e-95db-4349-83aa-4e6df2d42183');\n",
              "          const dataTable =\n",
              "            await google.colab.kernel.invokeFunction('convertToInteractive',\n",
              "                                                     [key], {});\n",
              "          if (!dataTable) return;\n",
              "\n",
              "          const docLinkHtml = 'Like what you see? Visit the ' +\n",
              "            '<a target=\"_blank\" href=https://colab.research.google.com/notebooks/data_table.ipynb>data table notebook</a>'\n",
              "            + ' to learn more about interactive tables.';\n",
              "          element.innerHTML = '';\n",
              "          dataTable['output_type'] = 'display_data';\n",
              "          await google.colab.output.renderOutput(dataTable, element);\n",
              "          const docLink = document.createElement('div');\n",
              "          docLink.innerHTML = docLinkHtml;\n",
              "          element.appendChild(docLink);\n",
              "        }\n",
              "      </script>\n",
              "    </div>\n",
              "  </div>\n",
              "  "
            ]
          },
          "metadata": {},
          "execution_count": 433
        }
      ]
    },
    {
      "cell_type": "code",
      "source": [
        "fn1 = np.asarray(fp)\n",
        "df_gt.iloc[fn1]"
      ],
      "metadata": {
        "colab": {
          "base_uri": "https://localhost:8080/",
          "height": 143
        },
        "id": "TDmse9nT2WA-",
        "outputId": "c12575bc-3191-401e-a4a6-b57cce498ab9"
      },
      "execution_count": null,
      "outputs": [
        {
          "output_type": "execute_result",
          "data": {
            "text/plain": [
              "               image_name  label  latent  edge  synthetic  order\n",
              "104  imgsISIC_0738587.jpg      0       0     0          0    105\n",
              "139     ISIC_0056511.jpeg      1       0     0          0    140\n",
              "175  imgsISIC_0762591.jpg      0       0     0          0    176"
            ],
            "text/html": [
              "\n",
              "  <div id=\"df-9a05bdc7-b85c-4821-90d8-18fe319a0904\">\n",
              "    <div class=\"colab-df-container\">\n",
              "      <div>\n",
              "<style scoped>\n",
              "    .dataframe tbody tr th:only-of-type {\n",
              "        vertical-align: middle;\n",
              "    }\n",
              "\n",
              "    .dataframe tbody tr th {\n",
              "        vertical-align: top;\n",
              "    }\n",
              "\n",
              "    .dataframe thead th {\n",
              "        text-align: right;\n",
              "    }\n",
              "</style>\n",
              "<table border=\"1\" class=\"dataframe\">\n",
              "  <thead>\n",
              "    <tr style=\"text-align: right;\">\n",
              "      <th></th>\n",
              "      <th>image_name</th>\n",
              "      <th>label</th>\n",
              "      <th>latent</th>\n",
              "      <th>edge</th>\n",
              "      <th>synthetic</th>\n",
              "      <th>order</th>\n",
              "    </tr>\n",
              "  </thead>\n",
              "  <tbody>\n",
              "    <tr>\n",
              "      <th>104</th>\n",
              "      <td>imgsISIC_0738587.jpg</td>\n",
              "      <td>0</td>\n",
              "      <td>0</td>\n",
              "      <td>0</td>\n",
              "      <td>0</td>\n",
              "      <td>105</td>\n",
              "    </tr>\n",
              "    <tr>\n",
              "      <th>139</th>\n",
              "      <td>ISIC_0056511.jpeg</td>\n",
              "      <td>1</td>\n",
              "      <td>0</td>\n",
              "      <td>0</td>\n",
              "      <td>0</td>\n",
              "      <td>140</td>\n",
              "    </tr>\n",
              "    <tr>\n",
              "      <th>175</th>\n",
              "      <td>imgsISIC_0762591.jpg</td>\n",
              "      <td>0</td>\n",
              "      <td>0</td>\n",
              "      <td>0</td>\n",
              "      <td>0</td>\n",
              "      <td>176</td>\n",
              "    </tr>\n",
              "  </tbody>\n",
              "</table>\n",
              "</div>\n",
              "      <button class=\"colab-df-convert\" onclick=\"convertToInteractive('df-9a05bdc7-b85c-4821-90d8-18fe319a0904')\"\n",
              "              title=\"Convert this dataframe to an interactive table.\"\n",
              "              style=\"display:none;\">\n",
              "        \n",
              "  <svg xmlns=\"http://www.w3.org/2000/svg\" height=\"24px\"viewBox=\"0 0 24 24\"\n",
              "       width=\"24px\">\n",
              "    <path d=\"M0 0h24v24H0V0z\" fill=\"none\"/>\n",
              "    <path d=\"M18.56 5.44l.94 2.06.94-2.06 2.06-.94-2.06-.94-.94-2.06-.94 2.06-2.06.94zm-11 1L8.5 8.5l.94-2.06 2.06-.94-2.06-.94L8.5 2.5l-.94 2.06-2.06.94zm10 10l.94 2.06.94-2.06 2.06-.94-2.06-.94-.94-2.06-.94 2.06-2.06.94z\"/><path d=\"M17.41 7.96l-1.37-1.37c-.4-.4-.92-.59-1.43-.59-.52 0-1.04.2-1.43.59L10.3 9.45l-7.72 7.72c-.78.78-.78 2.05 0 2.83L4 21.41c.39.39.9.59 1.41.59.51 0 1.02-.2 1.41-.59l7.78-7.78 2.81-2.81c.8-.78.8-2.07 0-2.86zM5.41 20L4 18.59l7.72-7.72 1.47 1.35L5.41 20z\"/>\n",
              "  </svg>\n",
              "      </button>\n",
              "      \n",
              "  <style>\n",
              "    .colab-df-container {\n",
              "      display:flex;\n",
              "      flex-wrap:wrap;\n",
              "      gap: 12px;\n",
              "    }\n",
              "\n",
              "    .colab-df-convert {\n",
              "      background-color: #E8F0FE;\n",
              "      border: none;\n",
              "      border-radius: 50%;\n",
              "      cursor: pointer;\n",
              "      display: none;\n",
              "      fill: #1967D2;\n",
              "      height: 32px;\n",
              "      padding: 0 0 0 0;\n",
              "      width: 32px;\n",
              "    }\n",
              "\n",
              "    .colab-df-convert:hover {\n",
              "      background-color: #E2EBFA;\n",
              "      box-shadow: 0px 1px 2px rgba(60, 64, 67, 0.3), 0px 1px 3px 1px rgba(60, 64, 67, 0.15);\n",
              "      fill: #174EA6;\n",
              "    }\n",
              "\n",
              "    [theme=dark] .colab-df-convert {\n",
              "      background-color: #3B4455;\n",
              "      fill: #D2E3FC;\n",
              "    }\n",
              "\n",
              "    [theme=dark] .colab-df-convert:hover {\n",
              "      background-color: #434B5C;\n",
              "      box-shadow: 0px 1px 3px 1px rgba(0, 0, 0, 0.15);\n",
              "      filter: drop-shadow(0px 1px 2px rgba(0, 0, 0, 0.3));\n",
              "      fill: #FFFFFF;\n",
              "    }\n",
              "  </style>\n",
              "\n",
              "      <script>\n",
              "        const buttonEl =\n",
              "          document.querySelector('#df-9a05bdc7-b85c-4821-90d8-18fe319a0904 button.colab-df-convert');\n",
              "        buttonEl.style.display =\n",
              "          google.colab.kernel.accessAllowed ? 'block' : 'none';\n",
              "\n",
              "        async function convertToInteractive(key) {\n",
              "          const element = document.querySelector('#df-9a05bdc7-b85c-4821-90d8-18fe319a0904');\n",
              "          const dataTable =\n",
              "            await google.colab.kernel.invokeFunction('convertToInteractive',\n",
              "                                                     [key], {});\n",
              "          if (!dataTable) return;\n",
              "\n",
              "          const docLinkHtml = 'Like what you see? Visit the ' +\n",
              "            '<a target=\"_blank\" href=https://colab.research.google.com/notebooks/data_table.ipynb>data table notebook</a>'\n",
              "            + ' to learn more about interactive tables.';\n",
              "          element.innerHTML = '';\n",
              "          dataTable['output_type'] = 'display_data';\n",
              "          await google.colab.output.renderOutput(dataTable, element);\n",
              "          const docLink = document.createElement('div');\n",
              "          docLink.innerHTML = docLinkHtml;\n",
              "          element.appendChild(docLink);\n",
              "        }\n",
              "      </script>\n",
              "    </div>\n",
              "  </div>\n",
              "  "
            ]
          },
          "metadata": {},
          "execution_count": 434
        }
      ]
    },
    {
      "cell_type": "code",
      "source": [
        "fn1 = np.asarray(tp)\n",
        "df_gt.iloc[fn1]"
      ],
      "metadata": {
        "colab": {
          "base_uri": "https://localhost:8080/",
          "height": 206
        },
        "id": "dKfummRX2bsn",
        "outputId": "9d534040-0503-4d78-a1de-f6e84c6af4a7"
      },
      "execution_count": null,
      "outputs": [
        {
          "output_type": "execute_result",
          "data": {
            "text/plain": [
              "                image_name  label  latent  edge  synthetic  order\n",
              "28     edge_seed0146_b.jpg      0       0     1          1     29\n",
              "102         seed1760_b.jpg      0       0     0          1    103\n",
              "115         seed0827_m.jpg      1       0     0          1    116\n",
              "154  latent_seed100301.jpg      1       1     0          1    155\n",
              "190    edge_seed0594_b.jpg      0       0     1          1    191"
            ],
            "text/html": [
              "\n",
              "  <div id=\"df-8a0c7df3-110a-4f0a-8bd1-b137712e4319\">\n",
              "    <div class=\"colab-df-container\">\n",
              "      <div>\n",
              "<style scoped>\n",
              "    .dataframe tbody tr th:only-of-type {\n",
              "        vertical-align: middle;\n",
              "    }\n",
              "\n",
              "    .dataframe tbody tr th {\n",
              "        vertical-align: top;\n",
              "    }\n",
              "\n",
              "    .dataframe thead th {\n",
              "        text-align: right;\n",
              "    }\n",
              "</style>\n",
              "<table border=\"1\" class=\"dataframe\">\n",
              "  <thead>\n",
              "    <tr style=\"text-align: right;\">\n",
              "      <th></th>\n",
              "      <th>image_name</th>\n",
              "      <th>label</th>\n",
              "      <th>latent</th>\n",
              "      <th>edge</th>\n",
              "      <th>synthetic</th>\n",
              "      <th>order</th>\n",
              "    </tr>\n",
              "  </thead>\n",
              "  <tbody>\n",
              "    <tr>\n",
              "      <th>28</th>\n",
              "      <td>edge_seed0146_b.jpg</td>\n",
              "      <td>0</td>\n",
              "      <td>0</td>\n",
              "      <td>1</td>\n",
              "      <td>1</td>\n",
              "      <td>29</td>\n",
              "    </tr>\n",
              "    <tr>\n",
              "      <th>102</th>\n",
              "      <td>seed1760_b.jpg</td>\n",
              "      <td>0</td>\n",
              "      <td>0</td>\n",
              "      <td>0</td>\n",
              "      <td>1</td>\n",
              "      <td>103</td>\n",
              "    </tr>\n",
              "    <tr>\n",
              "      <th>115</th>\n",
              "      <td>seed0827_m.jpg</td>\n",
              "      <td>1</td>\n",
              "      <td>0</td>\n",
              "      <td>0</td>\n",
              "      <td>1</td>\n",
              "      <td>116</td>\n",
              "    </tr>\n",
              "    <tr>\n",
              "      <th>154</th>\n",
              "      <td>latent_seed100301.jpg</td>\n",
              "      <td>1</td>\n",
              "      <td>1</td>\n",
              "      <td>0</td>\n",
              "      <td>1</td>\n",
              "      <td>155</td>\n",
              "    </tr>\n",
              "    <tr>\n",
              "      <th>190</th>\n",
              "      <td>edge_seed0594_b.jpg</td>\n",
              "      <td>0</td>\n",
              "      <td>0</td>\n",
              "      <td>1</td>\n",
              "      <td>1</td>\n",
              "      <td>191</td>\n",
              "    </tr>\n",
              "  </tbody>\n",
              "</table>\n",
              "</div>\n",
              "      <button class=\"colab-df-convert\" onclick=\"convertToInteractive('df-8a0c7df3-110a-4f0a-8bd1-b137712e4319')\"\n",
              "              title=\"Convert this dataframe to an interactive table.\"\n",
              "              style=\"display:none;\">\n",
              "        \n",
              "  <svg xmlns=\"http://www.w3.org/2000/svg\" height=\"24px\"viewBox=\"0 0 24 24\"\n",
              "       width=\"24px\">\n",
              "    <path d=\"M0 0h24v24H0V0z\" fill=\"none\"/>\n",
              "    <path d=\"M18.56 5.44l.94 2.06.94-2.06 2.06-.94-2.06-.94-.94-2.06-.94 2.06-2.06.94zm-11 1L8.5 8.5l.94-2.06 2.06-.94-2.06-.94L8.5 2.5l-.94 2.06-2.06.94zm10 10l.94 2.06.94-2.06 2.06-.94-2.06-.94-.94-2.06-.94 2.06-2.06.94z\"/><path d=\"M17.41 7.96l-1.37-1.37c-.4-.4-.92-.59-1.43-.59-.52 0-1.04.2-1.43.59L10.3 9.45l-7.72 7.72c-.78.78-.78 2.05 0 2.83L4 21.41c.39.39.9.59 1.41.59.51 0 1.02-.2 1.41-.59l7.78-7.78 2.81-2.81c.8-.78.8-2.07 0-2.86zM5.41 20L4 18.59l7.72-7.72 1.47 1.35L5.41 20z\"/>\n",
              "  </svg>\n",
              "      </button>\n",
              "      \n",
              "  <style>\n",
              "    .colab-df-container {\n",
              "      display:flex;\n",
              "      flex-wrap:wrap;\n",
              "      gap: 12px;\n",
              "    }\n",
              "\n",
              "    .colab-df-convert {\n",
              "      background-color: #E8F0FE;\n",
              "      border: none;\n",
              "      border-radius: 50%;\n",
              "      cursor: pointer;\n",
              "      display: none;\n",
              "      fill: #1967D2;\n",
              "      height: 32px;\n",
              "      padding: 0 0 0 0;\n",
              "      width: 32px;\n",
              "    }\n",
              "\n",
              "    .colab-df-convert:hover {\n",
              "      background-color: #E2EBFA;\n",
              "      box-shadow: 0px 1px 2px rgba(60, 64, 67, 0.3), 0px 1px 3px 1px rgba(60, 64, 67, 0.15);\n",
              "      fill: #174EA6;\n",
              "    }\n",
              "\n",
              "    [theme=dark] .colab-df-convert {\n",
              "      background-color: #3B4455;\n",
              "      fill: #D2E3FC;\n",
              "    }\n",
              "\n",
              "    [theme=dark] .colab-df-convert:hover {\n",
              "      background-color: #434B5C;\n",
              "      box-shadow: 0px 1px 3px 1px rgba(0, 0, 0, 0.15);\n",
              "      filter: drop-shadow(0px 1px 2px rgba(0, 0, 0, 0.3));\n",
              "      fill: #FFFFFF;\n",
              "    }\n",
              "  </style>\n",
              "\n",
              "      <script>\n",
              "        const buttonEl =\n",
              "          document.querySelector('#df-8a0c7df3-110a-4f0a-8bd1-b137712e4319 button.colab-df-convert');\n",
              "        buttonEl.style.display =\n",
              "          google.colab.kernel.accessAllowed ? 'block' : 'none';\n",
              "\n",
              "        async function convertToInteractive(key) {\n",
              "          const element = document.querySelector('#df-8a0c7df3-110a-4f0a-8bd1-b137712e4319');\n",
              "          const dataTable =\n",
              "            await google.colab.kernel.invokeFunction('convertToInteractive',\n",
              "                                                     [key], {});\n",
              "          if (!dataTable) return;\n",
              "\n",
              "          const docLinkHtml = 'Like what you see? Visit the ' +\n",
              "            '<a target=\"_blank\" href=https://colab.research.google.com/notebooks/data_table.ipynb>data table notebook</a>'\n",
              "            + ' to learn more about interactive tables.';\n",
              "          element.innerHTML = '';\n",
              "          dataTable['output_type'] = 'display_data';\n",
              "          await google.colab.output.renderOutput(dataTable, element);\n",
              "          const docLink = document.createElement('div');\n",
              "          docLink.innerHTML = docLinkHtml;\n",
              "          element.appendChild(docLink);\n",
              "        }\n",
              "      </script>\n",
              "    </div>\n",
              "  </div>\n",
              "  "
            ]
          },
          "metadata": {},
          "execution_count": 435
        }
      ]
    },
    {
      "cell_type": "code",
      "source": [
        "fn1 = np.asarray(tn)\n",
        "df_gt.iloc[fn1]"
      ],
      "metadata": {
        "colab": {
          "base_uri": "https://localhost:8080/",
          "height": 488
        },
        "id": "GbteSIZk2eWl",
        "outputId": "53ba2558-1967-4569-8e15-55c28ac70be5"
      },
      "execution_count": null,
      "outputs": [
        {
          "output_type": "execute_result",
          "data": {
            "text/plain": [
              "               image_name  label  latent  edge  synthetic  order\n",
              "16   imgsISIC_0720013.jpg      0       0     0          0     17\n",
              "18   imgsISIC_0679155.jpg      0       0     0          0     19\n",
              "30      ISIC_0000176.jpeg      1       0     0          0     31\n",
              "39   imgsISIC_0029538.jpg      1       0     0          0     40\n",
              "44      ISIC_0000022.jpeg      1       0     0          0     45\n",
              "56   imgsISIC_0057147.jpg      1       0     0          0     57\n",
              "66   imgsISIC_0678569.jpg      0       0     0          0     67\n",
              "78      ISIC_0009868.jpeg      1       0     0          0     79\n",
              "92      ISIC_0032845.jpeg      1       0     0          0     93\n",
              "108     ISIC_0030828.jpeg      1       0     0          0    109\n",
              "124     ISIC_0009960.jpeg      1       0     0          0    125\n",
              "166  imgsISIC_0674629.jpg      0       0     0          0    167\n",
              "170     ISIC_0031479.jpeg      1       0     0          0    171\n",
              "183     ISIC_0010468.jpeg      1       0     0          0    184"
            ],
            "text/html": [
              "\n",
              "  <div id=\"df-6b7f9ef2-265b-4ea2-9639-19c6ccf39290\">\n",
              "    <div class=\"colab-df-container\">\n",
              "      <div>\n",
              "<style scoped>\n",
              "    .dataframe tbody tr th:only-of-type {\n",
              "        vertical-align: middle;\n",
              "    }\n",
              "\n",
              "    .dataframe tbody tr th {\n",
              "        vertical-align: top;\n",
              "    }\n",
              "\n",
              "    .dataframe thead th {\n",
              "        text-align: right;\n",
              "    }\n",
              "</style>\n",
              "<table border=\"1\" class=\"dataframe\">\n",
              "  <thead>\n",
              "    <tr style=\"text-align: right;\">\n",
              "      <th></th>\n",
              "      <th>image_name</th>\n",
              "      <th>label</th>\n",
              "      <th>latent</th>\n",
              "      <th>edge</th>\n",
              "      <th>synthetic</th>\n",
              "      <th>order</th>\n",
              "    </tr>\n",
              "  </thead>\n",
              "  <tbody>\n",
              "    <tr>\n",
              "      <th>16</th>\n",
              "      <td>imgsISIC_0720013.jpg</td>\n",
              "      <td>0</td>\n",
              "      <td>0</td>\n",
              "      <td>0</td>\n",
              "      <td>0</td>\n",
              "      <td>17</td>\n",
              "    </tr>\n",
              "    <tr>\n",
              "      <th>18</th>\n",
              "      <td>imgsISIC_0679155.jpg</td>\n",
              "      <td>0</td>\n",
              "      <td>0</td>\n",
              "      <td>0</td>\n",
              "      <td>0</td>\n",
              "      <td>19</td>\n",
              "    </tr>\n",
              "    <tr>\n",
              "      <th>30</th>\n",
              "      <td>ISIC_0000176.jpeg</td>\n",
              "      <td>1</td>\n",
              "      <td>0</td>\n",
              "      <td>0</td>\n",
              "      <td>0</td>\n",
              "      <td>31</td>\n",
              "    </tr>\n",
              "    <tr>\n",
              "      <th>39</th>\n",
              "      <td>imgsISIC_0029538.jpg</td>\n",
              "      <td>1</td>\n",
              "      <td>0</td>\n",
              "      <td>0</td>\n",
              "      <td>0</td>\n",
              "      <td>40</td>\n",
              "    </tr>\n",
              "    <tr>\n",
              "      <th>44</th>\n",
              "      <td>ISIC_0000022.jpeg</td>\n",
              "      <td>1</td>\n",
              "      <td>0</td>\n",
              "      <td>0</td>\n",
              "      <td>0</td>\n",
              "      <td>45</td>\n",
              "    </tr>\n",
              "    <tr>\n",
              "      <th>56</th>\n",
              "      <td>imgsISIC_0057147.jpg</td>\n",
              "      <td>1</td>\n",
              "      <td>0</td>\n",
              "      <td>0</td>\n",
              "      <td>0</td>\n",
              "      <td>57</td>\n",
              "    </tr>\n",
              "    <tr>\n",
              "      <th>66</th>\n",
              "      <td>imgsISIC_0678569.jpg</td>\n",
              "      <td>0</td>\n",
              "      <td>0</td>\n",
              "      <td>0</td>\n",
              "      <td>0</td>\n",
              "      <td>67</td>\n",
              "    </tr>\n",
              "    <tr>\n",
              "      <th>78</th>\n",
              "      <td>ISIC_0009868.jpeg</td>\n",
              "      <td>1</td>\n",
              "      <td>0</td>\n",
              "      <td>0</td>\n",
              "      <td>0</td>\n",
              "      <td>79</td>\n",
              "    </tr>\n",
              "    <tr>\n",
              "      <th>92</th>\n",
              "      <td>ISIC_0032845.jpeg</td>\n",
              "      <td>1</td>\n",
              "      <td>0</td>\n",
              "      <td>0</td>\n",
              "      <td>0</td>\n",
              "      <td>93</td>\n",
              "    </tr>\n",
              "    <tr>\n",
              "      <th>108</th>\n",
              "      <td>ISIC_0030828.jpeg</td>\n",
              "      <td>1</td>\n",
              "      <td>0</td>\n",
              "      <td>0</td>\n",
              "      <td>0</td>\n",
              "      <td>109</td>\n",
              "    </tr>\n",
              "    <tr>\n",
              "      <th>124</th>\n",
              "      <td>ISIC_0009960.jpeg</td>\n",
              "      <td>1</td>\n",
              "      <td>0</td>\n",
              "      <td>0</td>\n",
              "      <td>0</td>\n",
              "      <td>125</td>\n",
              "    </tr>\n",
              "    <tr>\n",
              "      <th>166</th>\n",
              "      <td>imgsISIC_0674629.jpg</td>\n",
              "      <td>0</td>\n",
              "      <td>0</td>\n",
              "      <td>0</td>\n",
              "      <td>0</td>\n",
              "      <td>167</td>\n",
              "    </tr>\n",
              "    <tr>\n",
              "      <th>170</th>\n",
              "      <td>ISIC_0031479.jpeg</td>\n",
              "      <td>1</td>\n",
              "      <td>0</td>\n",
              "      <td>0</td>\n",
              "      <td>0</td>\n",
              "      <td>171</td>\n",
              "    </tr>\n",
              "    <tr>\n",
              "      <th>183</th>\n",
              "      <td>ISIC_0010468.jpeg</td>\n",
              "      <td>1</td>\n",
              "      <td>0</td>\n",
              "      <td>0</td>\n",
              "      <td>0</td>\n",
              "      <td>184</td>\n",
              "    </tr>\n",
              "  </tbody>\n",
              "</table>\n",
              "</div>\n",
              "      <button class=\"colab-df-convert\" onclick=\"convertToInteractive('df-6b7f9ef2-265b-4ea2-9639-19c6ccf39290')\"\n",
              "              title=\"Convert this dataframe to an interactive table.\"\n",
              "              style=\"display:none;\">\n",
              "        \n",
              "  <svg xmlns=\"http://www.w3.org/2000/svg\" height=\"24px\"viewBox=\"0 0 24 24\"\n",
              "       width=\"24px\">\n",
              "    <path d=\"M0 0h24v24H0V0z\" fill=\"none\"/>\n",
              "    <path d=\"M18.56 5.44l.94 2.06.94-2.06 2.06-.94-2.06-.94-.94-2.06-.94 2.06-2.06.94zm-11 1L8.5 8.5l.94-2.06 2.06-.94-2.06-.94L8.5 2.5l-.94 2.06-2.06.94zm10 10l.94 2.06.94-2.06 2.06-.94-2.06-.94-.94-2.06-.94 2.06-2.06.94z\"/><path d=\"M17.41 7.96l-1.37-1.37c-.4-.4-.92-.59-1.43-.59-.52 0-1.04.2-1.43.59L10.3 9.45l-7.72 7.72c-.78.78-.78 2.05 0 2.83L4 21.41c.39.39.9.59 1.41.59.51 0 1.02-.2 1.41-.59l7.78-7.78 2.81-2.81c.8-.78.8-2.07 0-2.86zM5.41 20L4 18.59l7.72-7.72 1.47 1.35L5.41 20z\"/>\n",
              "  </svg>\n",
              "      </button>\n",
              "      \n",
              "  <style>\n",
              "    .colab-df-container {\n",
              "      display:flex;\n",
              "      flex-wrap:wrap;\n",
              "      gap: 12px;\n",
              "    }\n",
              "\n",
              "    .colab-df-convert {\n",
              "      background-color: #E8F0FE;\n",
              "      border: none;\n",
              "      border-radius: 50%;\n",
              "      cursor: pointer;\n",
              "      display: none;\n",
              "      fill: #1967D2;\n",
              "      height: 32px;\n",
              "      padding: 0 0 0 0;\n",
              "      width: 32px;\n",
              "    }\n",
              "\n",
              "    .colab-df-convert:hover {\n",
              "      background-color: #E2EBFA;\n",
              "      box-shadow: 0px 1px 2px rgba(60, 64, 67, 0.3), 0px 1px 3px 1px rgba(60, 64, 67, 0.15);\n",
              "      fill: #174EA6;\n",
              "    }\n",
              "\n",
              "    [theme=dark] .colab-df-convert {\n",
              "      background-color: #3B4455;\n",
              "      fill: #D2E3FC;\n",
              "    }\n",
              "\n",
              "    [theme=dark] .colab-df-convert:hover {\n",
              "      background-color: #434B5C;\n",
              "      box-shadow: 0px 1px 3px 1px rgba(0, 0, 0, 0.15);\n",
              "      filter: drop-shadow(0px 1px 2px rgba(0, 0, 0, 0.3));\n",
              "      fill: #FFFFFF;\n",
              "    }\n",
              "  </style>\n",
              "\n",
              "      <script>\n",
              "        const buttonEl =\n",
              "          document.querySelector('#df-6b7f9ef2-265b-4ea2-9639-19c6ccf39290 button.colab-df-convert');\n",
              "        buttonEl.style.display =\n",
              "          google.colab.kernel.accessAllowed ? 'block' : 'none';\n",
              "\n",
              "        async function convertToInteractive(key) {\n",
              "          const element = document.querySelector('#df-6b7f9ef2-265b-4ea2-9639-19c6ccf39290');\n",
              "          const dataTable =\n",
              "            await google.colab.kernel.invokeFunction('convertToInteractive',\n",
              "                                                     [key], {});\n",
              "          if (!dataTable) return;\n",
              "\n",
              "          const docLinkHtml = 'Like what you see? Visit the ' +\n",
              "            '<a target=\"_blank\" href=https://colab.research.google.com/notebooks/data_table.ipynb>data table notebook</a>'\n",
              "            + ' to learn more about interactive tables.';\n",
              "          element.innerHTML = '';\n",
              "          dataTable['output_type'] = 'display_data';\n",
              "          await google.colab.output.renderOutput(dataTable, element);\n",
              "          const docLink = document.createElement('div');\n",
              "          docLink.innerHTML = docLinkHtml;\n",
              "          element.appendChild(docLink);\n",
              "        }\n",
              "      </script>\n",
              "    </div>\n",
              "  </div>\n",
              "  "
            ]
          },
          "metadata": {},
          "execution_count": 437
        }
      ]
    },
    {
      "cell_type": "code",
      "source": [
        "plt.scatter(np.mean(certainty_matrix, axis=0)[np.where(df_gt.synthetic == 1)[0]],np.linspace(1,105,105), alpha=0.4)"
      ],
      "metadata": {
        "colab": {
          "base_uri": "https://localhost:8080/",
          "height": 282
        },
        "id": "zJQn0Rzm2hyk",
        "outputId": "af32ae30-b677-4fc0-c1c9-f9fd4b5b6d14"
      },
      "execution_count": null,
      "outputs": [
        {
          "output_type": "execute_result",
          "data": {
            "text/plain": [
              "<matplotlib.collections.PathCollection at 0x7f8ef7bc37d0>"
            ]
          },
          "metadata": {},
          "execution_count": 27
        },
        {
          "output_type": "display_data",
          "data": {
            "text/plain": [
              "<Figure size 432x288 with 1 Axes>"
            ],
            "image/png": "[encoded data removed]"
          },
          "metadata": {
            "needs_background": "light"
          }
        }
      ]
    },
    {
      "cell_type": "code",
      "source": [
        "certainty_matrix[np.where(df_gt.synthetic == 1)[0]]"
      ],
      "metadata": {
        "colab": {
          "base_uri": "https://localhost:8080/",
          "height": 166
        },
        "id": "kI7ozOZhGI1W",
        "outputId": "3e3fdeb6-88bd-466f-a85b-feca2e63949d"
      },
      "execution_count": null,
      "outputs": [
        {
          "output_type": "error",
          "ename": "IndexError",
          "evalue": "ignored",
          "traceback": [
            "\u001b[0;31m---------------------------------------------------------------------------\u001b[0m",
            "\u001b[0;31mIndexError\u001b[0m                                Traceback (most recent call last)",
            "\u001b[0;32m<ipython-input-24-38d45718b991>\u001b[0m in \u001b[0;36m<module>\u001b[0;34m()\u001b[0m\n\u001b[0;32m----> 1\u001b[0;31m \u001b[0mcertainty_matrix\u001b[0m\u001b[0;34m[\u001b[0m\u001b[0mnp\u001b[0m\u001b[0;34m.\u001b[0m\u001b[0mwhere\u001b[0m\u001b[0;34m(\u001b[0m\u001b[0mdf_gt\u001b[0m\u001b[0;34m.\u001b[0m\u001b[0msynthetic\u001b[0m \u001b[0;34m==\u001b[0m \u001b[0;36m1\u001b[0m\u001b[0;34m)\u001b[0m\u001b[0;34m[\u001b[0m\u001b[0;36m0\u001b[0m\u001b[0;34m]\u001b[0m\u001b[0;34m]\u001b[0m\u001b[0;34m\u001b[0m\u001b[0;34m\u001b[0m\u001b[0m\n\u001b[0m",
            "\u001b[0;31mIndexError\u001b[0m: index 4 is out of bounds for axis 0 with size 4"
          ]
        }
      ]
    },
    {
      "cell_type": "code",
      "source": [
        "certainty_matrix"
      ],
      "metadata": {
        "colab": {
          "base_uri": "https://localhost:8080/"
        },
        "id": "sbNrxAiWGt9X",
        "outputId": "2d7f85b8-4472-41a1-9e06-54d146b68a6a"
      },
      "execution_count": null,
      "outputs": [
        {
          "output_type": "execute_result",
          "data": {
            "text/plain": [
              "array([[4., 4., 3., 4., 4., 3., 3., 5., 4., 4., 3., 3., 3., 4., 4., 4.,\n",
              "        4., 4., 3., 3., 3., 2., 5., 3., 2., 3., 2., 3., 2., 2., 2., 2.,\n",
              "        4., 3., 3., 3., 4., 4., 4., 4., 2., 3., 2., 2., 3., 3., 4., 3.,\n",
              "        3., 2., 2., 2., 2., 4., 3., 4., 2., 3., 2., 2., 3., 3., 2., 2.,\n",
              "        3., 2., 4., 2., 3., 5., 3., 3., 3., 3., 3., 4., 3., 3., 3., 2.,\n",
              "        1., 3., 3., 1., 3., 3., 3., 1., 2., 3., 2., 3., 2., 4., 4., 4.,\n",
              "        3., 4., 3., 3., 3., 1., 2., 3., 1., 2., 4., 4., 3., 2., 3., 2.,\n",
              "        2., 5., 3., 2., 2., 2., 2., 5., 2., 2., 2., 2., 3., 3., 1., 2.,\n",
              "        2., 3., 3., 4., 3., 3., 4., 2., 2., 5., 2., 5., 2., 2., 2., 2.,\n",
              "        2., 2., 3., 2., 2., 2., 2., 2., 2., 2., 3., 3., 2., 1., 3., 2.,\n",
              "        2., 2., 2., 2., 3., 2., 2., 3., 2., 2., 3., 2., 2., 3., 2., 2.,\n",
              "        2., 2., 3., 4., 2., 2., 2., 2., 2., 2., 3., 2., 2., 2., 4., 2.,\n",
              "        3., 2., 2., 3., 3., 3., 2., 3.],\n",
              "       [3., 3., 4., 3., 4., 3., 3., 4., 4., 3., 4., 4., 4., 3., 3., 3.,\n",
              "        3., 4., 3., 3., 3., 3., 3., 3., 3., 3., 3., 3., 3., 3., 3., 3.,\n",
              "        3., 3., 3., 3., 3., 3., 3., 3., 3., 3., 3., 3., 3., 3., 3., 3.,\n",
              "        3., 3., 4., 3., 3., 3., 3., 3., 3., 3., 3., 3., 3., 3., 4., 4.,\n",
              "        4., 3., 3., 3., 3., 3., 3., 3., 3., 3., 2., 2., 4., 4., 4., 3.,\n",
              "        2., 3., 2., 2., 2., 2., 3., 2., 2., 3., 3., 2., 2., 3., 3., 2.,\n",
              "        2., 2., 2., 2., 3., 4., 3., 3., 3., 3., 3., 2., 3., 2., 2., 4.,\n",
              "        4., 3., 3., 3., 2., 1., 2., 1., 2., 2., 2., 3., 2., 2., 2., 2.,\n",
              "        2., 2., 2., 1., 2., 2., 2., 2., 2., 1., 1., 3., 1., 2., 1., 1.,\n",
              "        2., 2., 2., 2., 3., 2., 2., 2., 1., 2., 2., 1., 2., 2., 2., 2.,\n",
              "        2., 1., 2., 1., 2., 1., 1., 1., 1., 1., 2., 2., 3., 2., 2., 1.,\n",
              "        2., 2., 4., 2., 1., 1., 1., 2., 3., 1., 1., 1., 2., 2., 2., 1.,\n",
              "        3., 1., 2., 1., 1., 2., 2., 2.],\n",
              "       [3., 3., 4., 4., 4., 4., 2., 4., 4., 2., 4., 4., 2., 2., 3., 2.,\n",
              "        4., 1., 3., 4., 4., 4., 3., 1., 2., 2., 3., 2., 3., 2., 2., 3.,\n",
              "        3., 3., 2., 1., 2., 1., 4., 2., 2., 2., 3., 4., 4., 3., 2., 3.,\n",
              "        2., 4., 1., 1., 4., 2., 3., 3., 2., 2., 3., 3., 2., 2., 3., 4.,\n",
              "        3., 3., 4., 2., 2., 2., 2., 3., 1., 3., 3., 3., 3., 2., 3., 4.,\n",
              "        2., 3., 3., 3., 2., 4., 4., 2., 2., 3., 2., 1., 4., 2., 4., 2.,\n",
              "        1., 3., 3., 2., 4., 3., 4., 3., 4., 1., 4., 4., 2., 4., 2., 4.,\n",
              "        3., 3., 4., 4., 3., 3., 2., 3., 2., 4., 1., 2., 2., 3., 3., 4.,\n",
              "        3., 2., 3., 3., 3., 4., 1., 2., 3., 2., 4., 3., 3., 3., 3., 3.,\n",
              "        1., 1., 2., 3., 4., 3., 2., 2., 2., 3., 3., 1., 3., 3., 3., 2.,\n",
              "        2., 4., 2., 3., 2., 3., 4., 4., 3., 2., 4., 2., 3., 3., 2., 1.,\n",
              "        2., 3., 4., 3., 3., 4., 3., 3., 4., 4., 2., 2., 2., 3., 4., 3.,\n",
              "        4., 2., 3., 3., 2., 2., 3., 3.],\n",
              "       [4., 3., 4., 4., 4., 4., 4., 4., 4., 4., 4., 4., 4., 4., 4., 4.,\n",
              "        4., 4., 4., 4., 4., 4., 4., 4., 4., 4., 4., 4., 4., 4., 4., 4.,\n",
              "        4., 4., 4., 4., 4., 4., 4., 4., 4., 4., 4., 4., 4., 4., 4., 4.,\n",
              "        4., 4., 4., 4., 4., 4., 4., 4., 4., 4., 4., 4., 4., 4., 4., 4.,\n",
              "        4., 4., 4., 4., 4., 4., 4., 4., 4., 4., 4., 4., 4., 4., 4., 4.,\n",
              "        4., 4., 4., 5., 4., 4., 4., 4., 4., 5., 4., 4., 4., 4., 4., 4.,\n",
              "        5., 4., 4., 4., 4., 4., 4., 4., 4., 4., 4., 4., 4., 4., 4., 4.,\n",
              "        4., 4., 4., 4., 4., 4., 4., 4., 4., 4., 4., 4., 4., 4., 4., 4.,\n",
              "        4., 5., 4., 4., 4., 4., 4., 4., 4., 4., 4., 4., 4., 4., 4., 4.,\n",
              "        4., 4., 4., 4., 4., 4., 4., 4., 4., 4., 4., 4., 5., 4., 4., 4.,\n",
              "        4., 4., 4., 4., 4., 4., 4., 4., 4., 4., 4., 4., 4., 4., 4., 4.,\n",
              "        4., 4., 4., 4., 4., 4., 4., 4., 5., 4., 4., 4., 4., 4., 5., 5.,\n",
              "        4., 4., 4., 4., 4., 4., 4., 4.]])"
            ]
          },
          "metadata": {},
          "execution_count": 26
        }
      ]
    },
    {
      "cell_type": "code",
      "source": [
        ""
      ],
      "metadata": {
        "id": "ZxWXIN29HLV_"
      },
      "execution_count": null,
      "outputs": []
    }
  ]
}